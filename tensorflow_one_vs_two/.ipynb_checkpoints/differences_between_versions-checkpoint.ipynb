{
 "cells": [
  {
   "cell_type": "markdown",
   "metadata": {},
   "source": [
    "## Differences between version TensorFLow 1.0 and TensorFLow 2.0\n",
    "\n",
    "\n",
    "### Eager Execution\n",
    "\n",
    "With eager execution, TensorFlow 2.0 adopts a radically different approach\n",
    "and removes the need to execute most of the preceding steps.\n",
    "1. TensorFlow 2.0 doesn’t require the graph definition.\n",
    "2. TensorFlow 2.0 doesn’t require the session\n",
    "execution.\n",
    "3. TensorFlow 2.0 doesn’t make it mandatory to\n",
    "initialize variables.\n",
    "4. TensorFlow 2.0 doesn’t require variable sharing via\n",
    "scopes.\n"
   ]
  },
  {
   "cell_type": "markdown",
   "metadata": {},
   "source": [
    "## TensorFLow 1\n",
    "\n",
    "- requires a session definition\n",
    "- requires a variable name"
   ]
  },
  {
   "cell_type": "code",
   "execution_count": 6,
   "metadata": {},
   "outputs": [
    {
     "name": "stdout",
     "output_type": "stream",
     "text": [
      "10\n",
      "12.0\n",
      "35.0\n"
     ]
    }
   ],
   "source": [
    "# TensorFlow v1\n",
    "import tensorflow as tf\n",
    "tf.compat.v1.disable_v2_behavior()\n",
    "# Define a Session\n",
    "tfs = tf.compat.v1.InteractiveSession()\n",
    "c1 = tf.compat.v1.constant(10, name='x') # variable name\n",
    "\n",
    "print(tfs.run(c1)) # run a session\n",
    "\n",
    "c2=tf.compat.v1.constant(5.0,name='y') # variable name\n",
    "c3=tf.compat.v1.constant(7.0,tf.float32,name='z') # variable name\n",
    "op1=tf.compat.v1.add(c2,c3)\n",
    "op2=tf.compat.v1.multiply(c2,c3)\n",
    "print(tfs.run(op1))\n",
    "print(tfs.run(op2))"
   ]
  },
  {
   "cell_type": "code",
   "execution_count": 16,
   "metadata": {},
   "outputs": [],
   "source": [
    "g = tf.compat.v1.Graph()\n",
    "with g.as_default():\n",
    "    a = tf.compat.v1.constant([[10,10],[11.,1.]])\n",
    "    x = tf.compat.v1.constant([[1.,0.],[0.,1.]])\n",
    "    b = tf.compat.v1.Variable(12.)\n",
    "    y = tf.compat.v1.matmul(a, x) + b\n",
    "    init_op = tf.compat.v1.global_variables_initializer()\n",
    "\n",
    "#with tf.Session() as sess:\n",
    "#    sess.run(init_op)\n",
    "#    print(sess.run(y))"
   ]
  },
  {
   "cell_type": "markdown",
   "metadata": {},
   "source": [
    "## TensorFlow v2"
   ]
  },
  {
   "cell_type": "code",
   "execution_count": 2,
   "metadata": {},
   "outputs": [
    {
     "name": "stdout",
     "output_type": "stream",
     "text": [
      "2.2.0\n",
      "tf.Tensor(10, shape=(), dtype=int32)\n",
      "tf.Tensor(12.0, shape=(), dtype=float32)\n",
      "tf.Tensor(35.0, shape=(), dtype=float32)\n",
      "[[22. 22.]\n",
      " [23. 13.]]\n"
     ]
    }
   ],
   "source": [
    "import tensorflow as tf\n",
    "print(tf.__version__)\n",
    "c1 = tf.constant(10)\n",
    "print(c1)\n",
    "\n",
    "c2= tf.constant(5.0)\n",
    "c3= tf.constant(7.0)\n",
    "op_1=tf.add(c2,c3)\n",
    "print(op_1)\n",
    "op_2=tf.multiply(c2,c3)\n",
    "print(op_2)\n",
    "\n",
    "a = tf.constant([[10,10],[11.,1.]])\n",
    "x = tf.constant([[1.,0.],[0.,1.]])\n",
    "b = tf.Variable(12.)\n",
    "y = tf.matmul(a, x) + b\n",
    "print(y.numpy())"
   ]
  },
  {
   "cell_type": "markdown",
   "metadata": {},
   "source": [
    "### tf.function\n",
    "\n",
    "- converts relevant Python code into a formidable TensorFlow graph. I\n",
    "- TensorFlow 2.0 doesn’t require the creation of a tf.session object. Instead, simple Python functions can be translated into a graph, using the tf.function decorator.\n",
    "- in order to define a graph in TensorFlow 2.0, we must define a Python function and decorate it with @tf.function."
   ]
  },
  {
   "cell_type": "markdown",
   "metadata": {},
   "source": [
    "### Keras\n",
    "- TensorFlow 2.0 has introduced the standardized version of tf.keras, which combines the simplicity of Keras and power of estimators.\n",
    "- The code for tf.keras in TensorFlow versions 1.13 and 2.0 remain the same, but what has changed under the hood is the integration of Keras with new features of TensorFlow 2.0. Running in a eager mode.\n",
    "- With eager mode, it becomes easy to debug the code, compared to earlier graph-based execution. \n",
    "- In eager mode, the data set pipelines behave exactly as those of a NumPy array, but TensorFlow takes care of the optimization in the best possible manner.\n",
    "- Graphs are still very much part of TensorFlow but operate in the background.\n",
    "\n",
    "### Documentation\n",
    "- includes a lot of new data sources (small as well as big) for users to make use of in their programs or for learning purposes.\n",
    "\n",
    "### Performance\n",
    "- Based on training and inference results using different processors (GPUs, TPUs), it seems TensorFlow has improved its speed two times, on average."
   ]
  }
 ],
 "metadata": {
  "kernelspec": {
   "display_name": "Python 3",
   "language": "python",
   "name": "python3"
  },
  "language_info": {
   "codemirror_mode": {
    "name": "ipython",
    "version": 3
   },
   "file_extension": ".py",
   "mimetype": "text/x-python",
   "name": "python",
   "nbconvert_exporter": "python",
   "pygments_lexer": "ipython3",
   "version": "3.6.9"
  }
 },
 "nbformat": 4,
 "nbformat_minor": 4
}
