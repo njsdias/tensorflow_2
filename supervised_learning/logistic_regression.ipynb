{
 "cells": [
  {
   "cell_type": "markdown",
   "metadata": {},
   "source": [
    "## Logistic Regression\n",
    "\n",
    "- Logistic regression is one of the most popular classification methods.\n",
    "\n",
    "- Although the name contains regression, and the underlying method is the same as that for linear regression, it is not a regression method. That is, it is not used for prediction of continuous (numeric) values. \n",
    "\n",
    "- The purpose of the **logistic regression method is to predict the outcome, which is categorical.**\n",
    "\n",
    "- In the logistic regression we apply logistic function to the linear equation , in sense to obtain probabilities\n",
    "\n",
    "Given a multi-class equation\n",
    "\n",
    "$$y = m_1 x_1 + m_2 x_3 + m_3 x_3 + ... +  m_n x_n + b $$\n",
    "\n",
    "$$ p(y=1)= 1 / e^{( m_1 x_1 + m_2 x_3 + m_3 x_3 + ... +  m_n x_n + b)} $$\n",
    "\n",
    "where **x** are different inputs, $m_1...n$ are the slopes and *b* is the intercept.\n",
    "\n",
    "At the end we obtain a sigmoid curve between 0,1.\n",
    "\n",
    "$$f(x) = \\frac{1}{1+e^{x}}$$"
   ]
  },
  {
   "cell_type": "code",
   "execution_count": 1,
   "metadata": {},
   "outputs": [
    {
     "data": {
      "image/png": "[encoded data removed]",
      "text/plain": [
       "<Figure size 432x288 with 1 Axes>"
      ]
     },
     "metadata": {
      "needs_background": "light"
     },
     "output_type": "display_data"
    }
   ],
   "source": [
    "# Import matplotlib, numpy and math \n",
    "import matplotlib.pyplot as plt \n",
    "import numpy as np \n",
    "import math \n",
    "\n",
    "# Generate input data \n",
    "x = np.linspace(-4, 4, 100) \n",
    "\n",
    "# Sigmoid curve\n",
    "z = 1/(1 + np.exp(-x)) \n",
    "\n",
    "# Plot Sigmoid Curve\n",
    "plt.plot(x, z) \n",
    "plt.xlabel(\"x\") \n",
    "plt.ylabel(\"Sigmoid(X)\") \n",
    "  \n",
    "plt.show() "
   ]
  },
  {
   "cell_type": "markdown",
   "metadata": {},
   "source": [
    "To implement Logistic Regression we use the `LinearCLassifier` "
   ]
  },
  {
   "cell_type": "markdown",
   "metadata": {},
   "source": [
    "## Problem Description \n",
    "\n",
    "### Dataset\n",
    "\n",
    "The dataset chosen was Iris dataset that is compounded by \n",
    "- features: SepalLength\tSepalWidth\tPentalLength\tPentalWidth\t\n",
    "- targets: Species\n",
    "\n",
    "The dataset has three types fo species. But only for demonstration (it is not for multiclass classification) we will work only with two species classes.\n",
    "\n",
    "The objective is through Logic Regression make prediction of species type using the dataset features.\n",
    "\n",
    "### Data Transformation\n",
    "\n",
    "Through Exploratory Data Analysis we saw the bimodal distribution in target due to we selected only two species. We can see the correlation between each feature with target.\n",
    "\n",
    "The dataset was split into train and test dataset. The train dataset represents 80% of dataset and the test dataset represents 20% of all dataset.\n",
    "\n",
    "Data normalization was implemented, because it is a very recommend procedure when we have features with different value range. \n",
    "\n",
    "### TensorFlow Pipeline\n",
    "A TensorFlow pipeline was built to slice, shuffle and create batch of data for generate train and test dataset for Logistic model.\n",
    "\n",
    "### Model Verification\n",
    "To verify the model performance to make predictions of two different species was implemented: accuracy, precision, recall. All metrics gaves values around 95%."
   ]
  },
  {
   "cell_type": "markdown",
   "metadata": {},
   "source": [
    "### Load Libraries"
   ]
  },
  {
   "cell_type": "code",
   "execution_count": 36,
   "metadata": {},
   "outputs": [],
   "source": [
    "from __future__ import absolute_import, division, print_function, unicode_literals\n",
    "import pandas as pd\n",
    "import seaborn as sb\n",
    "import tensorflow as tf\n",
    "from tensorflow import keras as ks\n",
    "\n",
    "from tensorflow.estimator import LinearClassifier\n",
    "\n",
    "from sklearn.model_selection import train_test_split\n",
    "from sklearn.metrics import accuracy_score, precision_score, recall_score"
   ]
  },
  {
   "cell_type": "markdown",
   "metadata": {},
   "source": [
    "### Load dataset\n",
    "\n",
    "The dataset is the well known Iris, that cathegorize four species of plants. The dataset is compound by features:\n",
    "- Sepal Length\n",
    "- Sepal Width\n",
    "- Petal Length\n",
    "- Petal Witdth\n",
    "\n",
    "and the categorical targets (species) are:\n",
    "- Setosa\n",
    "- Versicolor\n",
    "- Virginica\n",
    "\n",
    "Here we are predicting only two species"
   ]
  },
  {
   "cell_type": "code",
   "execution_count": 22,
   "metadata": {},
   "outputs": [],
   "source": [
    "# Define columns names\n",
    "col_names = ['SepalLength', 'SepalWidth', 'PentalLength', 'PentalWidth', 'Species']\n",
    "target_dimensions = ['Setosa', 'Versicolor', 'Virginica']\n",
    "\n",
    "# Load dataset\n",
    "# Define the path to read the dataset\n",
    "training_data_path = tf.keras.utils.get_file(\"iris_training.csv\", \"https://storage.googleapis.com/download.tensorflow.org/data/iris_training.csv\")\n",
    "test_data_path = tf.keras.utils.get_file(\"iris_test.csv\",\"https://storage.googleapis.com/download.tensorflow.org/data/iris_test.csv\")\n",
    "\n",
    "# Train dataset\n",
    "# We are not interest in the original dataset header (header = 0)\n",
    "training = pd.read_csv(training_data_path, names=col_names, header=0)\n",
    "\n",
    "# Select the Species that not contains zero\n",
    "training = training[training['Species'] >= 1]\n",
    "\n",
    "# replace the Species values from 1,2 to 0,1\n",
    "training['Species'] = training['Species'].replace([1,2], [0,1])\n",
    "\n",
    "# Test dataset\n",
    "# We are not interest in the original dataset header (header = 0)\n",
    "test = pd.read_csv(test_data_path, names=col_names,header=0)\n",
    "\n",
    "# Select the Species that not contains zero\n",
    "test = test[test['Species'] >= 1]\n",
    "\n",
    "# Replace the Species values from 1,2 to 0,1\n",
    "test['Species'] = test['Species'].replace([1,2], [0,1])"
   ]
  },
  {
   "cell_type": "code",
   "execution_count": 14,
   "metadata": {},
   "outputs": [
    {
     "data": {
      "text/html": [
       "<div>\n",
       "<style scoped>\n",
       "    .dataframe tbody tr th:only-of-type {\n",
       "        vertical-align: middle;\n",
       "    }\n",
       "\n",
       "    .dataframe tbody tr th {\n",
       "        vertical-align: top;\n",
       "    }\n",
       "\n",
       "    .dataframe thead th {\n",
       "        text-align: right;\n",
       "    }\n",
       "</style>\n",
       "<table border=\"1\" class=\"dataframe\">\n",
       "  <thead>\n",
       "    <tr style=\"text-align: right;\">\n",
       "      <th></th>\n",
       "      <th>SepalLength</th>\n",
       "      <th>SepalWidth</th>\n",
       "      <th>PentalLength</th>\n",
       "      <th>PentalWidth</th>\n",
       "      <th>Species</th>\n",
       "    </tr>\n",
       "  </thead>\n",
       "  <tbody>\n",
       "    <tr>\n",
       "      <th>0</th>\n",
       "      <td>5.0</td>\n",
       "      <td>2.3</td>\n",
       "      <td>3.3</td>\n",
       "      <td>1.0</td>\n",
       "      <td>0</td>\n",
       "    </tr>\n",
       "    <tr>\n",
       "      <th>1</th>\n",
       "      <td>4.9</td>\n",
       "      <td>2.5</td>\n",
       "      <td>4.5</td>\n",
       "      <td>1.7</td>\n",
       "      <td>1</td>\n",
       "    </tr>\n",
       "    <tr>\n",
       "      <th>6</th>\n",
       "      <td>6.9</td>\n",
       "      <td>3.1</td>\n",
       "      <td>5.1</td>\n",
       "      <td>2.3</td>\n",
       "      <td>1</td>\n",
       "    </tr>\n",
       "    <tr>\n",
       "      <th>7</th>\n",
       "      <td>6.7</td>\n",
       "      <td>3.1</td>\n",
       "      <td>4.4</td>\n",
       "      <td>1.4</td>\n",
       "      <td>0</td>\n",
       "    </tr>\n",
       "    <tr>\n",
       "      <th>9</th>\n",
       "      <td>5.2</td>\n",
       "      <td>2.7</td>\n",
       "      <td>3.9</td>\n",
       "      <td>1.4</td>\n",
       "      <td>0</td>\n",
       "    </tr>\n",
       "  </tbody>\n",
       "</table>\n",
       "</div>"
      ],
      "text/plain": [
       "   SepalLength  SepalWidth  PentalLength  PentalWidth  Species\n",
       "0          5.0         2.3           3.3          1.0        0\n",
       "1          4.9         2.5           4.5          1.7        1\n",
       "6          6.9         3.1           5.1          2.3        1\n",
       "7          6.7         3.1           4.4          1.4        0\n",
       "9          5.2         2.7           3.9          1.4        0"
      ]
     },
     "execution_count": 14,
     "metadata": {},
     "output_type": "execute_result"
    }
   ],
   "source": [
    "training.head()"
   ]
  },
  {
   "cell_type": "code",
   "execution_count": 15,
   "metadata": {},
   "outputs": [
    {
     "data": {
      "text/html": [
       "<div>\n",
       "<style scoped>\n",
       "    .dataframe tbody tr th:only-of-type {\n",
       "        vertical-align: middle;\n",
       "    }\n",
       "\n",
       "    .dataframe tbody tr th {\n",
       "        vertical-align: top;\n",
       "    }\n",
       "\n",
       "    .dataframe thead th {\n",
       "        text-align: right;\n",
       "    }\n",
       "</style>\n",
       "<table border=\"1\" class=\"dataframe\">\n",
       "  <thead>\n",
       "    <tr style=\"text-align: right;\">\n",
       "      <th></th>\n",
       "      <th>SepalLength</th>\n",
       "      <th>SepalWidth</th>\n",
       "      <th>PentalLength</th>\n",
       "      <th>PentalWidth</th>\n",
       "      <th>Species</th>\n",
       "    </tr>\n",
       "  </thead>\n",
       "  <tbody>\n",
       "    <tr>\n",
       "      <th>0</th>\n",
       "      <td>5.9</td>\n",
       "      <td>3.0</td>\n",
       "      <td>4.2</td>\n",
       "      <td>1.5</td>\n",
       "      <td>1</td>\n",
       "    </tr>\n",
       "    <tr>\n",
       "      <th>1</th>\n",
       "      <td>6.9</td>\n",
       "      <td>3.1</td>\n",
       "      <td>5.4</td>\n",
       "      <td>2.1</td>\n",
       "      <td>2</td>\n",
       "    </tr>\n",
       "    <tr>\n",
       "      <th>2</th>\n",
       "      <td>5.1</td>\n",
       "      <td>3.3</td>\n",
       "      <td>1.7</td>\n",
       "      <td>0.5</td>\n",
       "      <td>0</td>\n",
       "    </tr>\n",
       "    <tr>\n",
       "      <th>3</th>\n",
       "      <td>6.0</td>\n",
       "      <td>3.4</td>\n",
       "      <td>4.5</td>\n",
       "      <td>1.6</td>\n",
       "      <td>1</td>\n",
       "    </tr>\n",
       "    <tr>\n",
       "      <th>4</th>\n",
       "      <td>5.5</td>\n",
       "      <td>2.5</td>\n",
       "      <td>4.0</td>\n",
       "      <td>1.3</td>\n",
       "      <td>1</td>\n",
       "    </tr>\n",
       "  </tbody>\n",
       "</table>\n",
       "</div>"
      ],
      "text/plain": [
       "   SepalLength  SepalWidth  PentalLength  PentalWidth  Species\n",
       "0          5.9         3.0           4.2          1.5        1\n",
       "1          6.9         3.1           5.4          2.1        2\n",
       "2          5.1         3.3           1.7          0.5        0\n",
       "3          6.0         3.4           4.5          1.6        1\n",
       "4          5.5         2.5           4.0          1.3        1"
      ]
     },
     "execution_count": 15,
     "metadata": {},
     "output_type": "execute_result"
    }
   ],
   "source": [
    "test.head()"
   ]
  },
  {
   "cell_type": "code",
   "execution_count": 23,
   "metadata": {},
   "outputs": [
    {
     "data": {
      "text/html": [
       "<div>\n",
       "<style scoped>\n",
       "    .dataframe tbody tr th:only-of-type {\n",
       "        vertical-align: middle;\n",
       "    }\n",
       "\n",
       "    .dataframe tbody tr th {\n",
       "        vertical-align: top;\n",
       "    }\n",
       "\n",
       "    .dataframe thead th {\n",
       "        text-align: right;\n",
       "    }\n",
       "</style>\n",
       "<table border=\"1\" class=\"dataframe\">\n",
       "  <thead>\n",
       "    <tr style=\"text-align: right;\">\n",
       "      <th></th>\n",
       "      <th>count</th>\n",
       "      <th>mean</th>\n",
       "      <th>std</th>\n",
       "      <th>min</th>\n",
       "      <th>25%</th>\n",
       "      <th>50%</th>\n",
       "      <th>75%</th>\n",
       "      <th>max</th>\n",
       "    </tr>\n",
       "  </thead>\n",
       "  <tbody>\n",
       "    <tr>\n",
       "      <th>SepalLength</th>\n",
       "      <td>100.0</td>\n",
       "      <td>6.262</td>\n",
       "      <td>0.662834</td>\n",
       "      <td>4.9</td>\n",
       "      <td>5.800</td>\n",
       "      <td>6.3</td>\n",
       "      <td>6.700</td>\n",
       "      <td>7.9</td>\n",
       "    </tr>\n",
       "    <tr>\n",
       "      <th>SepalWidth</th>\n",
       "      <td>100.0</td>\n",
       "      <td>2.872</td>\n",
       "      <td>0.332751</td>\n",
       "      <td>2.0</td>\n",
       "      <td>2.700</td>\n",
       "      <td>2.9</td>\n",
       "      <td>3.025</td>\n",
       "      <td>3.8</td>\n",
       "    </tr>\n",
       "    <tr>\n",
       "      <th>PentalLength</th>\n",
       "      <td>100.0</td>\n",
       "      <td>4.906</td>\n",
       "      <td>0.825578</td>\n",
       "      <td>3.0</td>\n",
       "      <td>4.375</td>\n",
       "      <td>4.9</td>\n",
       "      <td>5.525</td>\n",
       "      <td>6.9</td>\n",
       "    </tr>\n",
       "    <tr>\n",
       "      <th>PentalWidth</th>\n",
       "      <td>100.0</td>\n",
       "      <td>1.676</td>\n",
       "      <td>0.424769</td>\n",
       "      <td>1.0</td>\n",
       "      <td>1.300</td>\n",
       "      <td>1.6</td>\n",
       "      <td>2.000</td>\n",
       "      <td>2.5</td>\n",
       "    </tr>\n",
       "    <tr>\n",
       "      <th>Species</th>\n",
       "      <td>100.0</td>\n",
       "      <td>0.500</td>\n",
       "      <td>0.502519</td>\n",
       "      <td>0.0</td>\n",
       "      <td>0.000</td>\n",
       "      <td>0.5</td>\n",
       "      <td>1.000</td>\n",
       "      <td>1.0</td>\n",
       "    </tr>\n",
       "  </tbody>\n",
       "</table>\n",
       "</div>"
      ],
      "text/plain": [
       "              count   mean       std  min    25%  50%    75%  max\n",
       "SepalLength   100.0  6.262  0.662834  4.9  5.800  6.3  6.700  7.9\n",
       "SepalWidth    100.0  2.872  0.332751  2.0  2.700  2.9  3.025  3.8\n",
       "PentalLength  100.0  4.906  0.825578  3.0  4.375  4.9  5.525  6.9\n",
       "PentalWidth   100.0  1.676  0.424769  1.0  1.300  1.6  2.000  2.5\n",
       "Species       100.0  0.500  0.502519  0.0  0.000  0.5  1.000  1.0"
      ]
     },
     "execution_count": 23,
     "metadata": {},
     "output_type": "execute_result"
    }
   ],
   "source": [
    "# Reset the index of dataframes\n",
    "training.reset_index(drop=True, inplace=True)\n",
    "test.reset_index(drop=True, inplace=True)\n",
    "\n",
    "# Concatenate two dataframes through rows\n",
    "iris_dataset = pd.concat([training, test], axis=0)\n",
    "\n",
    "# Output stats \n",
    "iris_stats = iris_dataset.describe()\n",
    "\n",
    "# Put the dataframe in a better configuration to read\n",
    "iris_stats = iris_stats.transpose()\n",
    "\n",
    "# Show the statics results\n",
    "iris_stats"
   ]
  },
  {
   "cell_type": "markdown",
   "metadata": {},
   "source": [
    "## EDA Exploratory Data Analysis\n",
    "\n",
    "BY the plot we can observe the distribution function of the each feature and target. In special tarhet shows us the bimodal distribution because it only have two values (0 and 1)."
   ]
  },
  {
   "cell_type": "code",
   "execution_count": 24,
   "metadata": {},
   "outputs": [
    {
     "data": {
      "text/plain": [
       "<seaborn.axisgrid.PairGrid at 0x7f4d149e1588>"
      ]
     },
     "execution_count": 24,
     "metadata": {},
     "output_type": "execute_result"
    },
    {
     "data": {
      "image/png": "[encoded data removed]",
      "text/plain": [
       "<Figure size 900x900 with 30 Axes>"
      ]
     },
     "metadata": {
      "needs_background": "light"
     },
     "output_type": "display_data"
    }
   ],
   "source": [
    "sb.pairplot(iris_dataset, diag_kind=\"kde\")"
   ]
  },
  {
   "cell_type": "code",
   "execution_count": 25,
   "metadata": {},
   "outputs": [
    {
     "data": {
      "text/html": [
       "<style  type=\"text/css\" >\n",
       "    #T_d24e0a86_c1dc_11ea_99c9_6036dd9c859crow0_col0 {\n",
       "            background-color:  #b40426;\n",
       "            color:  #f1f1f1;\n",
       "        }    #T_d24e0a86_c1dc_11ea_99c9_6036dd9c859crow0_col1 {\n",
       "            background-color:  #b1cbfc;\n",
       "            color:  #000000;\n",
       "        }    #T_d24e0a86_c1dc_11ea_99c9_6036dd9c859crow0_col2 {\n",
       "            background-color:  #f4987a;\n",
       "            color:  #000000;\n",
       "        }    #T_d24e0a86_c1dc_11ea_99c9_6036dd9c859crow0_col3 {\n",
       "            background-color:  #c4d5f3;\n",
       "            color:  #000000;\n",
       "        }    #T_d24e0a86_c1dc_11ea_99c9_6036dd9c859crow0_col4 {\n",
       "            background-color:  #93b5fe;\n",
       "            color:  #000000;\n",
       "        }    #T_d24e0a86_c1dc_11ea_99c9_6036dd9c859crow1_col0 {\n",
       "            background-color:  #b1cbfc;\n",
       "            color:  #000000;\n",
       "        }    #T_d24e0a86_c1dc_11ea_99c9_6036dd9c859crow1_col1 {\n",
       "            background-color:  #b40426;\n",
       "            color:  #f1f1f1;\n",
       "        }    #T_d24e0a86_c1dc_11ea_99c9_6036dd9c859crow1_col2 {\n",
       "            background-color:  #a1c0ff;\n",
       "            color:  #000000;\n",
       "        }    #T_d24e0a86_c1dc_11ea_99c9_6036dd9c859crow1_col3 {\n",
       "            background-color:  #b7cff9;\n",
       "            color:  #000000;\n",
       "        }    #T_d24e0a86_c1dc_11ea_99c9_6036dd9c859crow1_col4 {\n",
       "            background-color:  #3b4cc0;\n",
       "            color:  #f1f1f1;\n",
       "        }    #T_d24e0a86_c1dc_11ea_99c9_6036dd9c859crow2_col0 {\n",
       "            background-color:  #f4987a;\n",
       "            color:  #000000;\n",
       "        }    #T_d24e0a86_c1dc_11ea_99c9_6036dd9c859crow2_col1 {\n",
       "            background-color:  #a1c0ff;\n",
       "            color:  #000000;\n",
       "        }    #T_d24e0a86_c1dc_11ea_99c9_6036dd9c859crow2_col2 {\n",
       "            background-color:  #b40426;\n",
       "            color:  #f1f1f1;\n",
       "        }    #T_d24e0a86_c1dc_11ea_99c9_6036dd9c859crow2_col3 {\n",
       "            background-color:  #f59c7d;\n",
       "            color:  #000000;\n",
       "        }    #T_d24e0a86_c1dc_11ea_99c9_6036dd9c859crow2_col4 {\n",
       "            background-color:  #f7b093;\n",
       "            color:  #000000;\n",
       "        }    #T_d24e0a86_c1dc_11ea_99c9_6036dd9c859crow3_col0 {\n",
       "            background-color:  #c4d5f3;\n",
       "            color:  #000000;\n",
       "        }    #T_d24e0a86_c1dc_11ea_99c9_6036dd9c859crow3_col1 {\n",
       "            background-color:  #b7cff9;\n",
       "            color:  #000000;\n",
       "        }    #T_d24e0a86_c1dc_11ea_99c9_6036dd9c859crow3_col2 {\n",
       "            background-color:  #f59c7d;\n",
       "            color:  #000000;\n",
       "        }    #T_d24e0a86_c1dc_11ea_99c9_6036dd9c859crow3_col3 {\n",
       "            background-color:  #b40426;\n",
       "            color:  #f1f1f1;\n",
       "        }    #T_d24e0a86_c1dc_11ea_99c9_6036dd9c859crow3_col4 {\n",
       "            background-color:  #f4987a;\n",
       "            color:  #000000;\n",
       "        }    #T_d24e0a86_c1dc_11ea_99c9_6036dd9c859crow4_col0 {\n",
       "            background-color:  #93b5fe;\n",
       "            color:  #000000;\n",
       "        }    #T_d24e0a86_c1dc_11ea_99c9_6036dd9c859crow4_col1 {\n",
       "            background-color:  #3b4cc0;\n",
       "            color:  #f1f1f1;\n",
       "        }    #T_d24e0a86_c1dc_11ea_99c9_6036dd9c859crow4_col2 {\n",
       "            background-color:  #f7b093;\n",
       "            color:  #000000;\n",
       "        }    #T_d24e0a86_c1dc_11ea_99c9_6036dd9c859crow4_col3 {\n",
       "            background-color:  #f4987a;\n",
       "            color:  #000000;\n",
       "        }    #T_d24e0a86_c1dc_11ea_99c9_6036dd9c859crow4_col4 {\n",
       "            background-color:  #b40426;\n",
       "            color:  #f1f1f1;\n",
       "        }</style><table id=\"T_d24e0a86_c1dc_11ea_99c9_6036dd9c859c\" ><thead>    <tr>        <th class=\"blank level0\" ></th>        <th class=\"col_heading level0 col0\" >SepalLength</th>        <th class=\"col_heading level0 col1\" >SepalWidth</th>        <th class=\"col_heading level0 col2\" >PentalLength</th>        <th class=\"col_heading level0 col3\" >PentalWidth</th>        <th class=\"col_heading level0 col4\" >Species</th>    </tr></thead><tbody>\n",
       "                <tr>\n",
       "                        <th id=\"T_d24e0a86_c1dc_11ea_99c9_6036dd9c859clevel0_row0\" class=\"row_heading level0 row0\" >SepalLength</th>\n",
       "                        <td id=\"T_d24e0a86_c1dc_11ea_99c9_6036dd9c859crow0_col0\" class=\"data row0 col0\" >1.000000</td>\n",
       "                        <td id=\"T_d24e0a86_c1dc_11ea_99c9_6036dd9c859crow0_col1\" class=\"data row0 col1\" >0.553855</td>\n",
       "                        <td id=\"T_d24e0a86_c1dc_11ea_99c9_6036dd9c859crow0_col2\" class=\"data row0 col2\" >0.828479</td>\n",
       "                        <td id=\"T_d24e0a86_c1dc_11ea_99c9_6036dd9c859crow0_col3\" class=\"data row0 col3\" >0.593709</td>\n",
       "                        <td id=\"T_d24e0a86_c1dc_11ea_99c9_6036dd9c859crow0_col4\" class=\"data row0 col4\" >0.494305</td>\n",
       "            </tr>\n",
       "            <tr>\n",
       "                        <th id=\"T_d24e0a86_c1dc_11ea_99c9_6036dd9c859clevel0_row1\" class=\"row_heading level0 row1\" >SepalWidth</th>\n",
       "                        <td id=\"T_d24e0a86_c1dc_11ea_99c9_6036dd9c859crow1_col0\" class=\"data row1 col0\" >0.553855</td>\n",
       "                        <td id=\"T_d24e0a86_c1dc_11ea_99c9_6036dd9c859crow1_col1\" class=\"data row1 col1\" >1.000000</td>\n",
       "                        <td id=\"T_d24e0a86_c1dc_11ea_99c9_6036dd9c859crow1_col2\" class=\"data row1 col2\" >0.519802</td>\n",
       "                        <td id=\"T_d24e0a86_c1dc_11ea_99c9_6036dd9c859crow1_col3\" class=\"data row1 col3\" >0.566203</td>\n",
       "                        <td id=\"T_d24e0a86_c1dc_11ea_99c9_6036dd9c859crow1_col4\" class=\"data row1 col4\" >0.308080</td>\n",
       "            </tr>\n",
       "            <tr>\n",
       "                        <th id=\"T_d24e0a86_c1dc_11ea_99c9_6036dd9c859clevel0_row2\" class=\"row_heading level0 row2\" >PentalLength</th>\n",
       "                        <td id=\"T_d24e0a86_c1dc_11ea_99c9_6036dd9c859crow2_col0\" class=\"data row2 col0\" >0.828479</td>\n",
       "                        <td id=\"T_d24e0a86_c1dc_11ea_99c9_6036dd9c859crow2_col1\" class=\"data row2 col1\" >0.519802</td>\n",
       "                        <td id=\"T_d24e0a86_c1dc_11ea_99c9_6036dd9c859crow2_col2\" class=\"data row2 col2\" >1.000000</td>\n",
       "                        <td id=\"T_d24e0a86_c1dc_11ea_99c9_6036dd9c859crow2_col3\" class=\"data row2 col3\" >0.823348</td>\n",
       "                        <td id=\"T_d24e0a86_c1dc_11ea_99c9_6036dd9c859crow2_col4\" class=\"data row2 col4\" >0.786424</td>\n",
       "            </tr>\n",
       "            <tr>\n",
       "                        <th id=\"T_d24e0a86_c1dc_11ea_99c9_6036dd9c859clevel0_row3\" class=\"row_heading level0 row3\" >PentalWidth</th>\n",
       "                        <td id=\"T_d24e0a86_c1dc_11ea_99c9_6036dd9c859crow3_col0\" class=\"data row3 col0\" >0.593709</td>\n",
       "                        <td id=\"T_d24e0a86_c1dc_11ea_99c9_6036dd9c859crow3_col1\" class=\"data row3 col1\" >0.566203</td>\n",
       "                        <td id=\"T_d24e0a86_c1dc_11ea_99c9_6036dd9c859crow3_col2\" class=\"data row3 col2\" >0.823348</td>\n",
       "                        <td id=\"T_d24e0a86_c1dc_11ea_99c9_6036dd9c859crow3_col3\" class=\"data row3 col3\" >1.000000</td>\n",
       "                        <td id=\"T_d24e0a86_c1dc_11ea_99c9_6036dd9c859crow3_col4\" class=\"data row3 col4\" >0.828129</td>\n",
       "            </tr>\n",
       "            <tr>\n",
       "                        <th id=\"T_d24e0a86_c1dc_11ea_99c9_6036dd9c859clevel0_row4\" class=\"row_heading level0 row4\" >Species</th>\n",
       "                        <td id=\"T_d24e0a86_c1dc_11ea_99c9_6036dd9c859crow4_col0\" class=\"data row4 col0\" >0.494305</td>\n",
       "                        <td id=\"T_d24e0a86_c1dc_11ea_99c9_6036dd9c859crow4_col1\" class=\"data row4 col1\" >0.308080</td>\n",
       "                        <td id=\"T_d24e0a86_c1dc_11ea_99c9_6036dd9c859crow4_col2\" class=\"data row4 col2\" >0.786424</td>\n",
       "                        <td id=\"T_d24e0a86_c1dc_11ea_99c9_6036dd9c859crow4_col3\" class=\"data row4 col3\" >0.828129</td>\n",
       "                        <td id=\"T_d24e0a86_c1dc_11ea_99c9_6036dd9c859crow4_col4\" class=\"data row4 col4\" >1.000000</td>\n",
       "            </tr>\n",
       "    </tbody></table>"
      ],
      "text/plain": [
       "<pandas.io.formats.style.Styler at 0x7f4d11d34f28>"
      ]
     },
     "execution_count": 25,
     "metadata": {},
     "output_type": "execute_result"
    }
   ],
   "source": [
    "correlation_data = iris_dataset.corr()\n",
    "correlation_data.style.background_gradient(cmap='coolwarm',axis=None)"
   ]
  },
  {
   "cell_type": "markdown",
   "metadata": {},
   "source": [
    "## Split in train and test"
   ]
  },
  {
   "cell_type": "code",
   "execution_count": 30,
   "metadata": {},
   "outputs": [
    {
     "name": "stdout",
     "output_type": "stream",
     "text": [
      "No. of rows in Training Features:  80\n",
      "No. of rows in Test Features:  20\n",
      "No. of columns in Training Features:  4\n",
      "No. of columns in Test Features:  4\n",
      "No. of rows in Training Label:  80\n",
      "No. of rows in Test Label:  20\n",
      "No. of columns in Training Label:  1\n",
      "No. of columns in Test Label:  1\n"
     ]
    }
   ],
   "source": [
    "## Select the require dataset\n",
    "X_data = iris_dataset[[i for i in iris_dataset.columns if i not in ['Species']]]\n",
    "Y_data = iris_dataset[['Species']]\n",
    "\n",
    "# Split dataset in training and test\n",
    "training_features, test_features, training_labels, test_labels = train_test_split(X_data , Y_data , test_size=0.2)\n",
    "\n",
    "print('No. of rows in Training Features: ', training_features.shape[0])\n",
    "print('No. of rows in Test Features: ', test_features.shape[0])\n",
    "print('No. of columns in Training Features: ', training_features.shape[1])\n",
    "print('No. of columns in Test Features: ', test_features.shape[1])\n",
    "print('No. of rows in Training Label: ', training_labels.shape[0])\n",
    "print('No. of rows in Test Label: ', test_labels.shape[0])\n",
    "print('No. of columns in Training Label: ', training_labels.shape[1])\n",
    "print('No. of columns in Test Label: ', test_labels.shape[1])"
   ]
  },
  {
   "cell_type": "code",
   "execution_count": 31,
   "metadata": {},
   "outputs": [],
   "source": [
    "## Normalize dataset\n",
    "def norm(x):\n",
    "    stats = x.describe()\n",
    "    stats = stats.transpose()\n",
    "    \n",
    "    return (x - stats['mean']) / stats['std']\n",
    "\n",
    "normed_train_features = norm(training_features)\n",
    "normed_test_features = norm(test_features)"
   ]
  },
  {
   "cell_type": "markdown",
   "metadata": {},
   "source": [
    "## Build the input pipeline for the TensorFlow model"
   ]
  },
  {
   "cell_type": "code",
   "execution_count": 34,
   "metadata": {},
   "outputs": [],
   "source": [
    "def feed_input(features_dataframe, target_dataframe, shuffle=True, num_of_epochs=10, batch_size=32):\n",
    "    # This function allows to shuffle dataset and create batchs of dataset for each epoch\n",
    "    def input_feed_function():\n",
    "        #  get the slices of an array in the form of objects\n",
    "        dataset = tf.data.Dataset.from_tensor_slices((dict(features_dataframe), target_dataframe))\n",
    "        \n",
    "        # Shuffle dataset in which X is the number of samples randomized \n",
    "        if shuffle:\n",
    "            dataset = dataset.shuffle(2000)\n",
    "            \n",
    "        dataset = dataset.batch(batch_size).repeat(num_of_epochs)\n",
    "        \n",
    "        return dataset\n",
    "    \n",
    "    return input_feed_function"
   ]
  },
  {
   "cell_type": "code",
   "execution_count": 37,
   "metadata": {},
   "outputs": [
    {
     "name": "stdout",
     "output_type": "stream",
     "text": [
      "INFO:tensorflow:Using default config.\n",
      "WARNING:tensorflow:Using temporary folder as model directory: /tmp/tmpybgv809z\n",
      "INFO:tensorflow:Using config: {'_model_dir': '/tmp/tmpybgv809z', '_tf_random_seed': None, '_save_summary_steps': 100, '_save_checkpoints_steps': None, '_save_checkpoints_secs': 600, '_session_config': allow_soft_placement: true\n",
      "graph_options {\n",
      "  rewrite_options {\n",
      "    meta_optimizer_iterations: ONE\n",
      "  }\n",
      "}\n",
      ", '_keep_checkpoint_max': 5, '_keep_checkpoint_every_n_hours': 10000, '_log_step_count_steps': 100, '_train_distribute': None, '_device_fn': None, '_protocol': None, '_eval_distribute': None, '_experimental_distribute': None, '_experimental_max_worker_delay_secs': None, '_session_creation_timeout_secs': 7200, '_service': None, '_cluster_spec': ClusterSpec({}), '_task_type': 'worker', '_task_id': 0, '_global_id_in_cluster': 0, '_master': '', '_evaluation_master': '', '_is_chief': True, '_num_ps_replicas': 0, '_num_worker_replicas': 1}\n",
      "WARNING:tensorflow:From /home/nuno/.local/lib/python3.6/site-packages/tensorflow/python/ops/resource_variable_ops.py:1666: calling BaseResourceVariable.__init__ (from tensorflow.python.ops.resource_variable_ops) with constraint is deprecated and will be removed in a future version.\n",
      "Instructions for updating:\n",
      "If using Keras pass *_constraint arguments to layers.\n",
      "WARNING:tensorflow:From /home/nuno/.local/lib/python3.6/site-packages/tensorflow/python/training/training_util.py:236: Variable.initialized_value (from tensorflow.python.ops.variables) is deprecated and will be removed in a future version.\n",
      "Instructions for updating:\n",
      "Use Variable.read_value. Variables in 2.X are initialized automatically both in eager and graph (inside tf.defun) contexts.\n",
      "INFO:tensorflow:Calling model_fn.\n",
      "WARNING:tensorflow:Layer linear/linear_model is casting an input tensor from dtype float64 to the layer's dtype of float32, which is new behavior in TensorFlow 2.  The layer has dtype float32 because it's dtype defaults to floatx.\n",
      "\n",
      "If you intended to run this layer in float32, you can safely ignore this warning. If in doubt, this warning is likely only an issue if you are porting a TensorFlow 1.X model to TensorFlow 2.\n",
      "\n",
      "To change all layers to have dtype float64 by default, call `tf.keras.backend.set_floatx('float64')`. To change just this layer, pass dtype='float64' to the layer constructor. If you are the author of this layer, you can disable autocasting by passing autocast=False to the base Layer constructor.\n",
      "\n",
      "WARNING:tensorflow:From /home/nuno/.local/lib/python3.6/site-packages/tensorflow/python/feature_column/feature_column_v2.py:540: Layer.add_variable (from tensorflow.python.keras.engine.base_layer_v1) is deprecated and will be removed in a future version.\n",
      "Instructions for updating:\n",
      "Please use `layer.add_weight` method instead.\n",
      "WARNING:tensorflow:From /home/nuno/.local/lib/python3.6/site-packages/tensorflow/python/keras/optimizer_v2/ftrl.py:144: calling Constant.__init__ (from tensorflow.python.ops.init_ops) with dtype is deprecated and will be removed in a future version.\n",
      "Instructions for updating:\n",
      "Call initializer instance with the dtype argument instead of passing it to the constructor\n",
      "INFO:tensorflow:Done calling model_fn.\n",
      "INFO:tensorflow:Create CheckpointSaverHook.\n",
      "INFO:tensorflow:Graph was finalized.\n",
      "INFO:tensorflow:Running local_init_op.\n",
      "INFO:tensorflow:Done running local_init_op.\n",
      "INFO:tensorflow:Calling checkpoint listeners before saving checkpoint 0...\n",
      "INFO:tensorflow:Saving checkpoints for 0 into /tmp/tmpybgv809z/model.ckpt.\n",
      "INFO:tensorflow:Calling checkpoint listeners after saving checkpoint 0...\n",
      "INFO:tensorflow:loss = 0.6931472, step = 0\n",
      "INFO:tensorflow:Calling checkpoint listeners before saving checkpoint 30...\n",
      "INFO:tensorflow:Saving checkpoints for 30 into /tmp/tmpybgv809z/model.ckpt.\n",
      "INFO:tensorflow:Calling checkpoint listeners after saving checkpoint 30...\n",
      "INFO:tensorflow:Loss for final step: 0.33752474.\n"
     ]
    },
    {
     "data": {
      "text/plain": [
       "<tensorflow_estimator.python.estimator.canned.linear.LinearClassifierV2 at 0x7f4d0bc51ac8>"
      ]
     },
     "execution_count": 37,
     "metadata": {},
     "output_type": "execute_result"
    }
   ],
   "source": [
    "# Obtain the train dataset to feed into Linear Model\n",
    "train_feed_input = feed_input(normed_train_features, training_labels)\n",
    "\n",
    "# In test We don't need shuffle dataset and the epoch is only one \n",
    "train_feed_input_testing = feed_input(normed_train_features, training_labels, num_of_epochs=1, shuffle=False)\n",
    "\n",
    "# Obtain the test dataset to feed into Linear Model\n",
    "test_feed_input = feed_input(normed_test_features, test_labels, num_of_epochs=1, shuffle=False)\n",
    "\n",
    "# Select numerical column for model\n",
    "feature_columns_numeric = [tf.feature_column.numeric_column(m) for m in training_features.columns]\n",
    "\n",
    "# Build logistic model with categorical columns\n",
    "logistic_model = LinearClassifier(feature_columns=feature_columns_numeric)\n",
    "\n",
    "# Train the model with dataset\n",
    "logistic_model.train(train_feed_input)"
   ]
  },
  {
   "cell_type": "markdown",
   "metadata": {},
   "source": [
    "## Predictions"
   ]
  },
  {
   "cell_type": "code",
   "execution_count": 40,
   "metadata": {},
   "outputs": [
    {
     "name": "stdout",
     "output_type": "stream",
     "text": [
      "INFO:tensorflow:Calling model_fn.\n",
      "WARNING:tensorflow:Layer linear/linear_model is casting an input tensor from dtype float64 to the layer's dtype of float32, which is new behavior in TensorFlow 2.  The layer has dtype float32 because it's dtype defaults to floatx.\n",
      "\n",
      "If you intended to run this layer in float32, you can safely ignore this warning. If in doubt, this warning is likely only an issue if you are porting a TensorFlow 1.X model to TensorFlow 2.\n",
      "\n",
      "To change all layers to have dtype float64 by default, call `tf.keras.backend.set_floatx('float64')`. To change just this layer, pass dtype='float64' to the layer constructor. If you are the author of this layer, you can disable autocasting by passing autocast=False to the base Layer constructor.\n",
      "\n",
      "INFO:tensorflow:Done calling model_fn.\n",
      "INFO:tensorflow:Graph was finalized.\n",
      "INFO:tensorflow:Restoring parameters from /tmp/tmpybgv809z/model.ckpt-30\n",
      "INFO:tensorflow:Running local_init_op.\n",
      "INFO:tensorflow:Done running local_init_op.\n",
      "INFO:tensorflow:Calling model_fn.\n",
      "WARNING:tensorflow:Layer linear/linear_model is casting an input tensor from dtype float64 to the layer's dtype of float32, which is new behavior in TensorFlow 2.  The layer has dtype float32 because it's dtype defaults to floatx.\n",
      "\n",
      "If you intended to run this layer in float32, you can safely ignore this warning. If in doubt, this warning is likely only an issue if you are porting a TensorFlow 1.X model to TensorFlow 2.\n",
      "\n",
      "To change all layers to have dtype float64 by default, call `tf.keras.backend.set_floatx('float64')`. To change just this layer, pass dtype='float64' to the layer constructor. If you are the author of this layer, you can disable autocasting by passing autocast=False to the base Layer constructor.\n",
      "\n",
      "INFO:tensorflow:Done calling model_fn.\n",
      "INFO:tensorflow:Graph was finalized.\n",
      "INFO:tensorflow:Restoring parameters from /tmp/tmpybgv809z/model.ckpt-30\n",
      "INFO:tensorflow:Running local_init_op.\n",
      "INFO:tensorflow:Done running local_init_op.\n"
     ]
    }
   ],
   "source": [
    "# Make predictions with train dataset test\n",
    "train_predictions = logistic_model.predict(train_feed_input_testing)\n",
    "\n",
    "# Make preditions with test dataset\n",
    "test_predictions = logistic_model.predict(test_feed_input)\n",
    "\n",
    "# Transform train predictions into Series\n",
    "train_predictions_series = pd.Series([p['classes'][0].decode(\"utf-8\") for p in train_predictions])\n",
    "\n",
    "# Transform test Predictions in to series\n",
    "test_predictions_series = pd.Series([p['classes'][0].decode(\"utf-8\") for p in test_predictions])"
   ]
  },
  {
   "cell_type": "markdown",
   "metadata": {},
   "source": [
    "## Calculate Metrics\n",
    "\n",
    "This part allow us to check the quality of our model. In the classification problems the metric that is usually used is: \n",
    "- accuracy\n",
    "- precision\n",
    "- recall"
   ]
  },
  {
   "cell_type": "code",
   "execution_count": 41,
   "metadata": {},
   "outputs": [
    {
     "name": "stdout",
     "output_type": "stream",
     "text": [
      "Training Data Accuracy (%) =  95.0\n",
      "Training Data Precision (%) =  95.24\n",
      "Training Data Recall (%) =  95.24\n",
      "--------------------------------------------------\n"
     ]
    }
   ],
   "source": [
    "def calculate_binary_class_scores(y_true, y_pred):\n",
    "    # y_true : target original values\n",
    "    # y_pred : predict values\n",
    "    accuracy = accuracy_score(y_true,y_pred.astype('int64'))\n",
    "    precision = precision_score(y_true,y_pred.astype('int64'))\n",
    "    recall = recall_score(y_true, y_pred.astype('int64'))\n",
    "    \n",
    "    return accuracy, precision, recall\n",
    "\n",
    "train_accuracy_score, train_precision_score, train_recall_score = calculate_binary_class_scores(training_labels, train_predictions_series)\n",
    "test_accuracy_score, test_precision_score, test_recall_score = calculate_binary_class_scores(test_labels, test_predictions_series)\n",
    "\n",
    "print('Training Data Accuracy (%) = ', round(train_accuracy_score*100,2))\n",
    "print('Training Data Precision (%) = ', round(train_precision_score*100,2))\n",
    "print('Training Data Recall (%) = ', round(train_recall_score*100,2))\n",
    "print('-'*50)"
   ]
  },
  {
   "cell_type": "markdown",
   "metadata": {},
   "source": [
    "We see the model is a good performance to predcit two species of flowers."
   ]
  }
 ],
 "metadata": {
  "kernelspec": {
   "display_name": "Python 3",
   "language": "python",
   "name": "python3"
  },
  "language_info": {
   "codemirror_mode": {
    "name": "ipython",
    "version": 3
   },
   "file_extension": ".py",
   "mimetype": "text/x-python",
   "name": "python",
   "nbconvert_exporter": "python",
   "pygments_lexer": "ipython3",
   "version": "3.6.9"
  }
 },
 "nbformat": 4,
 "nbformat_minor": 4
}
