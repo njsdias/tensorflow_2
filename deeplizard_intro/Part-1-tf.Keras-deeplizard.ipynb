{
 "cells": [
  {
   "cell_type": "markdown",
   "metadata": {},
   "source": [
    "# Data Preparation and Processing\n",
    "\n",
    "https://www.youtube.com/watch?v=qFJeN9V1ZsI&list=WL&index=3&t=55s&ab_channel=freeCodeCamp.org\n",
    "\n",
    "- Create a virtual environment\n",
    "\n",
    "        python3 venv ./venv\n",
    "\n",
    "- Install tensorflow\n",
    "\n",
    "        pip install tensorflow"
   ]
  },
  {
   "cell_type": "markdown",
   "metadata": {},
   "source": [
    "# Explanations\n",
    "\n",
    "To mode details check the [site](https://deeplizard.com/learn/video/dzoh8cfnvnI)"
   ]
  },
  {
   "cell_type": "code",
   "execution_count": 1,
   "metadata": {},
   "outputs": [],
   "source": [
    "import numpy as np\n",
    "from random import randint\n",
    "from sklearn.utils import shuffle\n",
    "from sklearn.preprocessing import MinMaxScaler"
   ]
  },
  {
   "cell_type": "code",
   "execution_count": 2,
   "metadata": {},
   "outputs": [],
   "source": [
    "train_labels = []\n",
    "train_samples= []"
   ]
  },
  {
   "cell_type": "markdown",
   "metadata": {},
   "source": [
    "Example data:\n",
    "\n",
    "- An experimental drug was tested on individuals from ages 13 to 100 in a clinical trial\n",
    "- The trial has 2100 participants. Half where under 65 years old, half were 65 years or older.\n",
    "- Around 95% of patients 65 or older experienced side effects\n",
    "- Around 95% of patients under 65 experienced no side effects\n",
    "\n",
    "Detailed \n",
    "- 65 or older \n",
    "    - 95% : side effect\n",
    "    - 5%: no side effect\n",
    "    \n",
    "- under 65\n",
    "    - 95% : no side effect\n",
    "    - 5% : side effect\n",
    "    \n",
    "Population size: 2100 individuals\n",
    "- 5 %:  53 individuals\n",
    "- 50 %: 1050 individuals \n",
    "- 95 %: 997 individulas\n"
   ]
  },
  {
   "cell_type": "markdown",
   "metadata": {},
   "source": [
    "# Here we generate our dataset\n",
    "\n",
    "We will label as:\n",
    "- 0 who did not experienced side effects\n",
    "- 1 who experienced side effects"
   ]
  },
  {
   "cell_type": "code",
   "execution_count": 3,
   "metadata": {},
   "outputs": [],
   "source": [
    "for i in range(50):\n",
    "    # The ~5% of younger individuals who did experience side effects\n",
    "    random_younger = randint(13,64)\n",
    "    train_samples.append(random_younger)\n",
    "    train_labels.append(1)\n",
    "    \n",
    "    # the ~5% of older individuals who did not experience side effects\n",
    "    random_older = randint(65,100)\n",
    "    train_samples.append(random_older)\n",
    "    train_labels.append(0)\n",
    "\n",
    "for i in range(1000):\n",
    "    # The ~95% of younger individuals who did not experience side effects\n",
    "    random_younger = randint(13,64)\n",
    "    train_samples.append(random_younger)\n",
    "    train_labels.append(0)\n",
    "    \n",
    "    # the ~95% of older individuals who did experience side effects\n",
    "    random_older = randint(65,100)\n",
    "    train_samples.append(random_older)\n",
    "    train_labels.append(1)\n",
    "    \n",
    "    "
   ]
  },
  {
   "cell_type": "markdown",
   "metadata": {},
   "source": [
    "# Change data structure format\n",
    "\n",
    "It is necessary to provide the data to *fit function* as required by Keras.\n",
    "\n",
    "For this we will tranform it into a numpy array.\n",
    "\n",
    "https://www.tensorflow.org/api_docs/python/tf/keras/Sequential#fit"
   ]
  },
  {
   "cell_type": "code",
   "execution_count": 4,
   "metadata": {},
   "outputs": [],
   "source": [
    "train_labels = np.array(train_labels)\n",
    "train_samples = np.array(train_samples)"
   ]
  },
  {
   "cell_type": "code",
   "execution_count": 5,
   "metadata": {},
   "outputs": [
    {
     "data": {
      "text/plain": [
       "2100"
      ]
     },
     "execution_count": 5,
     "metadata": {},
     "output_type": "execute_result"
    }
   ],
   "source": [
    "len(train_samples)"
   ]
  },
  {
   "cell_type": "markdown",
   "metadata": {},
   "source": [
    "To turn our data more realist we need suffle the data (change all positions to avoid the labels are put in sequential order)"
   ]
  },
  {
   "cell_type": "code",
   "execution_count": 6,
   "metadata": {},
   "outputs": [],
   "source": [
    "train_labels, train_samples = shuffle(train_labels, train_samples)"
   ]
  },
  {
   "cell_type": "markdown",
   "metadata": {},
   "source": [
    "**Scale Values**"
   ]
  },
  {
   "cell_type": "markdown",
   "metadata": {},
   "source": [
    "Neural Networks requires a scaler data to provide better results. \n",
    "\n",
    "In this case our case the age goes from 13 to 100- Thus, we rescale data to values from 0 to 1."
   ]
  },
  {
   "cell_type": "code",
   "execution_count": 7,
   "metadata": {},
   "outputs": [],
   "source": [
    "scaler = MinMaxScaler(feature_range=(0,1))\n",
    "scaled_train_samples = scaler.fit_transform(train_samples.reshape(-1,1))"
   ]
  },
  {
   "cell_type": "code",
   "execution_count": 8,
   "metadata": {},
   "outputs": [
    {
     "data": {
      "text/plain": [
       "array([81, 62, 38, 59, 53, 30, 63, 36, 52, 70])"
      ]
     },
     "execution_count": 8,
     "metadata": {},
     "output_type": "execute_result"
    }
   ],
   "source": [
    "train_samples[0:10]"
   ]
  },
  {
   "cell_type": "code",
   "execution_count": 9,
   "metadata": {},
   "outputs": [
    {
     "data": {
      "text/plain": [
       "array([[0.7816092 ],\n",
       "       [0.56321839],\n",
       "       [0.28735632],\n",
       "       [0.52873563],\n",
       "       [0.45977011],\n",
       "       [0.1954023 ],\n",
       "       [0.57471264],\n",
       "       [0.26436782],\n",
       "       [0.44827586],\n",
       "       [0.65517241]])"
      ]
     },
     "execution_count": 9,
     "metadata": {},
     "output_type": "execute_result"
    }
   ],
   "source": [
    "scaled_train_samples[0:10]"
   ]
  },
  {
   "cell_type": "markdown",
   "metadata": {},
   "source": [
    "# Build Neural Network\n",
    "\n",
    "For this purpose we are using Sequential Models."
   ]
  },
  {
   "cell_type": "code",
   "execution_count": 10,
   "metadata": {},
   "outputs": [],
   "source": [
    "import tensorflow as tf\n",
    "from tensorflow import keras\n",
    "from tensorflow.keras.models import Sequential\n",
    "from tensorflow.keras.layers import Activation, Dense\n",
    "from tensorflow.keras.optimizers import Adam\n",
    "from tensorflow.keras.metrics import categorical_crossentropy"
   ]
  },
  {
   "cell_type": "markdown",
   "metadata": {},
   "source": [
    "- To run using GPU: active the next cell"
   ]
  },
  {
   "cell_type": "raw",
   "metadata": {},
   "source": [
    "physical_devices = tf.config.experimental.list_physical_devices('GPU')\n",
    "print(\"Num GPUs Available: \", len(physical_devices))\n",
    "tf.config.experimental.set_memory_growth(physical_devices[0], True)"
   ]
  },
  {
   "cell_type": "markdown",
   "metadata": {},
   "source": [
    "*Important notes*\n",
    "\n",
    "- The sequential layer doesn't requires the input layer. \n",
    "- The information of the input layer is passed in the first hidden layer. The number of nodes (units) is arbitrary \n",
    "- The last hidden layer only contains two nodes that is the the possible values for the output (0 or 1). The softmax activalion evaluates the probability for each output class."
   ]
  },
  {
   "cell_type": "code",
   "execution_count": 18,
   "metadata": {},
   "outputs": [],
   "source": [
    "model = Sequential([\n",
    "    # first hidden layer requires the shape of the input data\n",
    "    Dense(units=16, input_shape=(1,), activation='relu'),\n",
    "    Dense(units=32, activation='relu'),\n",
    "    # output layer: full connected layer\n",
    "    Dense(units=2, activation=\"softmax\")\n",
    "])"
   ]
  },
  {
   "cell_type": "code",
   "execution_count": 12,
   "metadata": {},
   "outputs": [
    {
     "name": "stdout",
     "output_type": "stream",
     "text": [
      "Model: \"sequential\"\n",
      "_________________________________________________________________\n",
      "Layer (type)                 Output Shape              Param #   \n",
      "=================================================================\n",
      "dense (Dense)                (None, 16)                32        \n",
      "_________________________________________________________________\n",
      "dense_1 (Dense)              (None, 32)                544       \n",
      "_________________________________________________________________\n",
      "dense_2 (Dense)              (None, 2)                 66        \n",
      "=================================================================\n",
      "Total params: 642\n",
      "Trainable params: 642\n",
      "Non-trainable params: 0\n",
      "_________________________________________________________________\n"
     ]
    }
   ],
   "source": [
    "model.summary()"
   ]
  },
  {
   "cell_type": "markdown",
   "metadata": {},
   "source": [
    "# Train an ANN"
   ]
  },
  {
   "cell_type": "markdown",
   "metadata": {},
   "source": [
    "**Set model parameters**\n",
    "- choose an optimizer\n",
    "- choose a learning rate\n",
    "- choose a loss function\n",
    "- choose the metrics to judge the model\n",
    "\n",
    "**Fit the model**\n",
    "- x: input data\n",
    "- y: target data\n",
    "- batch_size: how many samples are included in one batch to be passed and processed by the network in one time\n",
    "- epochs: number or trainning times that the model will train data before finished the entire training process\n",
    "- shuffle: to guarantee that the model not have any bias\n",
    "- verbose: to see information related with the fit function\n",
    "\n",
    "**To check the health of the model**\n",
    "\n",
    "While the epoch number increases\n",
    "- loss function decreases (convergency model)\n",
    "- accuracy increases\n"
   ]
  },
  {
   "cell_type": "code",
   "execution_count": 19,
   "metadata": {},
   "outputs": [],
   "source": [
    "model.compile(optimizer=Adam(learning_rate=0.0001),\n",
    "             loss='sparse_categorical_crossentropy',\n",
    "             metrics=['accuracy'])"
   ]
  },
  {
   "cell_type": "code",
   "execution_count": 15,
   "metadata": {},
   "outputs": [
    {
     "name": "stdout",
     "output_type": "stream",
     "text": [
      "Epoch 1/30\n",
      "210/210 - 0s - loss: 0.6860 - accuracy: 0.5610\n",
      "Epoch 2/30\n",
      "210/210 - 0s - loss: 0.6691 - accuracy: 0.6052\n",
      "Epoch 3/30\n",
      "210/210 - 0s - loss: 0.6472 - accuracy: 0.6971\n",
      "Epoch 4/30\n",
      "210/210 - 0s - loss: 0.6223 - accuracy: 0.7462\n",
      "Epoch 5/30\n",
      "210/210 - 0s - loss: 0.5934 - accuracy: 0.7900\n",
      "Epoch 6/30\n",
      "210/210 - 0s - loss: 0.5658 - accuracy: 0.8114\n",
      "Epoch 7/30\n",
      "210/210 - 0s - loss: 0.5391 - accuracy: 0.8271\n",
      "Epoch 8/30\n",
      "210/210 - 0s - loss: 0.5126 - accuracy: 0.8390\n",
      "Epoch 9/30\n",
      "210/210 - 0s - loss: 0.4866 - accuracy: 0.8471\n",
      "Epoch 10/30\n",
      "210/210 - 0s - loss: 0.4613 - accuracy: 0.8619\n",
      "Epoch 11/30\n",
      "210/210 - 0s - loss: 0.4373 - accuracy: 0.8695\n",
      "Epoch 12/30\n",
      "210/210 - 0s - loss: 0.4149 - accuracy: 0.8800\n",
      "Epoch 13/30\n",
      "210/210 - 0s - loss: 0.3949 - accuracy: 0.8981\n",
      "Epoch 14/30\n",
      "210/210 - 0s - loss: 0.3772 - accuracy: 0.9000\n",
      "Epoch 15/30\n",
      "210/210 - 0s - loss: 0.3616 - accuracy: 0.9076\n",
      "Epoch 16/30\n",
      "210/210 - 0s - loss: 0.3481 - accuracy: 0.9110\n",
      "Epoch 17/30\n",
      "210/210 - 0s - loss: 0.3364 - accuracy: 0.9205\n",
      "Epoch 18/30\n",
      "210/210 - 0s - loss: 0.3265 - accuracy: 0.9176\n",
      "Epoch 19/30\n",
      "210/210 - 0s - loss: 0.3176 - accuracy: 0.9224\n",
      "Epoch 20/30\n",
      "210/210 - 0s - loss: 0.3102 - accuracy: 0.9243\n",
      "Epoch 21/30\n",
      "210/210 - 0s - loss: 0.3036 - accuracy: 0.9238\n",
      "Epoch 22/30\n",
      "210/210 - 0s - loss: 0.2982 - accuracy: 0.9271\n",
      "Epoch 23/30\n",
      "210/210 - 0s - loss: 0.2932 - accuracy: 0.9314\n",
      "Epoch 24/30\n",
      "210/210 - 0s - loss: 0.2890 - accuracy: 0.9305\n",
      "Epoch 25/30\n",
      "210/210 - 0s - loss: 0.2855 - accuracy: 0.9314\n",
      "Epoch 26/30\n",
      "210/210 - 0s - loss: 0.2823 - accuracy: 0.9329\n",
      "Epoch 27/30\n",
      "210/210 - 0s - loss: 0.2794 - accuracy: 0.9314\n",
      "Epoch 28/30\n",
      "210/210 - 0s - loss: 0.2769 - accuracy: 0.9329\n",
      "Epoch 29/30\n",
      "210/210 - 0s - loss: 0.2747 - accuracy: 0.9338\n",
      "Epoch 30/30\n",
      "210/210 - 0s - loss: 0.2726 - accuracy: 0.9381\n"
     ]
    },
    {
     "data": {
      "text/plain": [
       "<tensorflow.python.keras.callbacks.History at 0x7f086023ce10>"
      ]
     },
     "execution_count": 15,
     "metadata": {},
     "output_type": "execute_result"
    }
   ],
   "source": [
    "model.fit(x=scaled_train_samples, y=train_labels, \n",
    "         batch_size=10, epochs=30,\n",
    "         shuffle=True, verbose=2)"
   ]
  },
  {
   "cell_type": "markdown",
   "metadata": {},
   "source": [
    "# Create a validation set on the training\n",
    "\n",
    "Validation dataset help us tho see how much generalized our model is because validation dataset use a dataset that our model hasn't seen before. More than that, when we test our model we have more guarantee that our model is already generalized and is not overfitting. \n",
    "\n",
    "The testing model step is an additional step that gives us a secuity to deploy the model to production if we see that model is well generalized.\n",
    "\n",
    "100% dataset split as, for instance:\n",
    "- 10%: test\n",
    "- 20%: validation\n",
    "- 70%: train\n",
    "\n",
    "https://deeplizard.com/learn/video/dzoh8cfnvnI\n",
    "\n",
    "We can provide the valdiation dataset to the model in two ways:\n",
    "- giving the validation dataset and pass it to the *validation_data* parameter\n",
    "- or, tells a percentage of training dataset that foes to vcalidation dataset pass it to *validation_split* parameter\n",
    "\n",
    "**Very Important Note**\n",
    "\n",
    "Suffle:\n",
    "- 1rst: split training set into validation\n",
    "- 2nd: shuffle training set\n",
    "\n",
    "It can introduces a critical problem into model. \n",
    "Suppose our data has a sequency like [0 0 0 0 0 0 0 1 1 1]. If we say to pick 30% of training set to validation set we will be selecting only [1 1 1]. We need to avoid this situation, once we always want the validtion dataset has a similar aspect of our train dataset, otherwise we will have a bias validation dataset.\n",
    "\n",
    "To avoid this we already suffle dataset when we built the *train_labels, train_samples.*\n",
    "\n",
    "Re-run the cells \n",
    "        \n",
    "        model = Sequential(...)\n",
    "        model.compile"
   ]
  },
  {
   "cell_type": "code",
   "execution_count": 20,
   "metadata": {},
   "outputs": [
    {
     "name": "stdout",
     "output_type": "stream",
     "text": [
      "Epoch 1/30\n",
      "189/189 - 0s - loss: 0.6782 - accuracy: 0.5444 - val_loss: 0.6630 - val_accuracy: 0.6143\n",
      "Epoch 2/30\n",
      "189/189 - 0s - loss: 0.6491 - accuracy: 0.6354 - val_loss: 0.6340 - val_accuracy: 0.6619\n",
      "Epoch 3/30\n",
      "189/189 - 0s - loss: 0.6206 - accuracy: 0.6878 - val_loss: 0.6030 - val_accuracy: 0.6952\n",
      "Epoch 4/30\n",
      "189/189 - 0s - loss: 0.5878 - accuracy: 0.7439 - val_loss: 0.5688 - val_accuracy: 0.7524\n",
      "Epoch 5/30\n",
      "189/189 - 0s - loss: 0.5549 - accuracy: 0.7820 - val_loss: 0.5357 - val_accuracy: 0.8190\n",
      "Epoch 6/30\n",
      "189/189 - 0s - loss: 0.5240 - accuracy: 0.8127 - val_loss: 0.5053 - val_accuracy: 0.8381\n",
      "Epoch 7/30\n",
      "189/189 - 0s - loss: 0.4949 - accuracy: 0.8354 - val_loss: 0.4765 - val_accuracy: 0.8524\n",
      "Epoch 8/30\n",
      "189/189 - 0s - loss: 0.4674 - accuracy: 0.8402 - val_loss: 0.4488 - val_accuracy: 0.8667\n",
      "Epoch 9/30\n",
      "189/189 - 0s - loss: 0.4414 - accuracy: 0.8566 - val_loss: 0.4231 - val_accuracy: 0.8810\n",
      "Epoch 10/30\n",
      "189/189 - 0s - loss: 0.4177 - accuracy: 0.8730 - val_loss: 0.3997 - val_accuracy: 0.8857\n",
      "Epoch 11/30\n",
      "189/189 - 0s - loss: 0.3963 - accuracy: 0.8836 - val_loss: 0.3789 - val_accuracy: 0.8905\n",
      "Epoch 12/30\n",
      "189/189 - 0s - loss: 0.3772 - accuracy: 0.8931 - val_loss: 0.3604 - val_accuracy: 0.8905\n",
      "Epoch 13/30\n",
      "189/189 - 0s - loss: 0.3608 - accuracy: 0.9048 - val_loss: 0.3443 - val_accuracy: 0.9048\n",
      "Epoch 14/30\n",
      "189/189 - 0s - loss: 0.3463 - accuracy: 0.9153 - val_loss: 0.3306 - val_accuracy: 0.9286\n",
      "Epoch 15/30\n",
      "189/189 - 0s - loss: 0.3340 - accuracy: 0.9180 - val_loss: 0.3196 - val_accuracy: 0.9286\n",
      "Epoch 16/30\n",
      "189/189 - 0s - loss: 0.3233 - accuracy: 0.9153 - val_loss: 0.3083 - val_accuracy: 0.9381\n",
      "Epoch 17/30\n",
      "189/189 - 0s - loss: 0.3142 - accuracy: 0.9206 - val_loss: 0.2994 - val_accuracy: 0.9381\n",
      "Epoch 18/30\n",
      "189/189 - 0s - loss: 0.3061 - accuracy: 0.9238 - val_loss: 0.2921 - val_accuracy: 0.9381\n",
      "Epoch 19/30\n",
      "189/189 - 0s - loss: 0.2994 - accuracy: 0.9259 - val_loss: 0.2853 - val_accuracy: 0.9333\n",
      "Epoch 20/30\n",
      "189/189 - 0s - loss: 0.2935 - accuracy: 0.9312 - val_loss: 0.2800 - val_accuracy: 0.9333\n",
      "Epoch 21/30\n",
      "189/189 - 0s - loss: 0.2884 - accuracy: 0.9296 - val_loss: 0.2755 - val_accuracy: 0.9381\n",
      "Epoch 22/30\n",
      "189/189 - 0s - loss: 0.2840 - accuracy: 0.9296 - val_loss: 0.2710 - val_accuracy: 0.9333\n",
      "Epoch 23/30\n",
      "189/189 - 0s - loss: 0.2801 - accuracy: 0.9328 - val_loss: 0.2670 - val_accuracy: 0.9381\n",
      "Epoch 24/30\n",
      "189/189 - 0s - loss: 0.2771 - accuracy: 0.9339 - val_loss: 0.2640 - val_accuracy: 0.9381\n",
      "Epoch 25/30\n",
      "189/189 - 0s - loss: 0.2741 - accuracy: 0.9365 - val_loss: 0.2617 - val_accuracy: 0.9333\n",
      "Epoch 26/30\n",
      "189/189 - 0s - loss: 0.2715 - accuracy: 0.9381 - val_loss: 0.2590 - val_accuracy: 0.9381\n",
      "Epoch 27/30\n",
      "189/189 - 0s - loss: 0.2691 - accuracy: 0.9381 - val_loss: 0.2569 - val_accuracy: 0.9381\n",
      "Epoch 28/30\n",
      "189/189 - 0s - loss: 0.2671 - accuracy: 0.9418 - val_loss: 0.2552 - val_accuracy: 0.9381\n",
      "Epoch 29/30\n",
      "189/189 - 0s - loss: 0.2653 - accuracy: 0.9413 - val_loss: 0.2541 - val_accuracy: 0.9333\n",
      "Epoch 30/30\n",
      "189/189 - 0s - loss: 0.2636 - accuracy: 0.9365 - val_loss: 0.2524 - val_accuracy: 0.9381\n"
     ]
    },
    {
     "data": {
      "text/plain": [
       "<tensorflow.python.keras.callbacks.History at 0x7f08581ad1d0>"
      ]
     },
     "execution_count": 20,
     "metadata": {},
     "output_type": "execute_result"
    }
   ],
   "source": [
    "model.fit(x=scaled_train_samples, y=train_labels, \n",
    "          validation_split=0.1, \n",
    "          batch_size=10, epochs=30, \n",
    "          shuffle= True, verbose=2\n",
    "         )"
   ]
  },
  {
   "cell_type": "markdown",
   "metadata": {},
   "source": [
    "**Observations**\n",
    "\n",
    "Train and validation; accuracy and loss:\n",
    " - loss decreasing while accuracy is increasing -> model is generalizing well\n",
    " - validation accuracy lagging behind our train accuracy => overfitting. The model is not generalize enough.\n"
   ]
  },
  {
   "cell_type": "markdown",
   "metadata": {},
   "source": [
    "# Prepare a Test set\n",
    "\n",
    "After train and validate our model we test our model. For this we need a test dataset.\n",
    "\n",
    "Here we create our test dataset."
   ]
  },
  {
   "cell_type": "code",
   "execution_count": 21,
   "metadata": {},
   "outputs": [],
   "source": [
    "test_labels = []\n",
    "test_samples= []"
   ]
  },
  {
   "cell_type": "code",
   "execution_count": 22,
   "metadata": {},
   "outputs": [],
   "source": [
    "for i in range(10):\n",
    "    # The ~5% of younger individuals who did experience side effects\n",
    "    random_younger = randint(13,64)\n",
    "    test_samples.append(random_younger)\n",
    "    test_labels.append(1)\n",
    "    \n",
    "    # the ~5% of older individuals who did not experience side effects\n",
    "    random_older = randint(65,100)\n",
    "    test_samples.append(random_older)\n",
    "    test_labels.append(0)\n",
    "\n",
    "for i in range(200):\n",
    "    # The ~95% of younger individuals who did not experience side effects\n",
    "    random_younger = randint(13,64)\n",
    "    test_samples.append(random_younger)\n",
    "    test_labels.append(0)\n",
    "    \n",
    "    # the ~95% of older individuals who did experience side effects\n",
    "    random_older = randint(65,100)\n",
    "    test_samples.append(random_older)\n",
    "    test_labels.append(1)"
   ]
  },
  {
   "cell_type": "code",
   "execution_count": 23,
   "metadata": {},
   "outputs": [],
   "source": [
    "test_labels = np.array(test_labels)\n",
    "test_samples = np.array(test_samples)\n",
    "\n",
    "test_labels, test_samples = shuffle(test_labels, test_samples)\n",
    "\n",
    "scaler = MinMaxScaler(feature_range=(0,1))\n",
    "scaled_test_samples = scaler.fit_transform(test_samples.reshape(-1,1))"
   ]
  },
  {
   "cell_type": "markdown",
   "metadata": {},
   "source": [
    "# Predict\n",
    "\n",
    "We pass our model knowledge to our test datset to get the prediction. After that we need to compare the predictions with the lables that are expected. We want to predict well the value of the most of the labels. "
   ]
  },
  {
   "cell_type": "code",
   "execution_count": 25,
   "metadata": {},
   "outputs": [],
   "source": [
    "predictions = model.predict(x=scaled_test_samples, batch_size=10, verbose=0)"
   ]
  },
  {
   "cell_type": "markdown",
   "metadata": {},
   "source": [
    "**Understanding Predicitons output**\n",
    "\n",
    "Predictions gives us the probabilities of:\n",
    "- 0 : patient not experiencing a side effect\n",
    "- 1 : patient experiencing a side effect\n",
    "\n",
    "We know this positions because in:\n",
    "- Zero Index is the Label:0\n",
    "- and, in the 1rst Index is the Label:1\n",
    "\n",
    "For instance:\n",
    "- [0.9558285 , 0.04417155]: 95% our model is confident to predict with label 0\n",
    "- [0.14550203, 0.85449797]: 85% our model is confident to predict with label 1"
   ]
  },
  {
   "cell_type": "code",
   "execution_count": 35,
   "metadata": {},
   "outputs": [
    {
     "data": {
      "text/plain": [
       "array([[0.9558285 , 0.04417155],\n",
       "       [0.14550203, 0.85449797],\n",
       "       [0.16348317, 0.83651686],\n",
       "       [0.02201087, 0.97798914],\n",
       "       [0.955617  , 0.04438291],\n",
       "       [0.03938941, 0.9606106 ],\n",
       "       [0.5395932 , 0.4604068 ],\n",
       "       [0.9557504 , 0.04424957],\n",
       "       [0.10126381, 0.89873624],\n",
       "       [0.93284386, 0.06715616],\n",
       "       [0.04547286, 0.95452714],\n",
       "       [0.5395932 , 0.4604068 ],\n",
       "       [0.95631784, 0.0436821 ],\n",
       "       [0.77919966, 0.22080034],\n",
       "       [0.9549095 , 0.04509043],\n",
       "       [0.8897054 , 0.11029457],\n",
       "       [0.02045326, 0.9795467 ],\n",
       "       [0.43667734, 0.5633226 ],\n",
       "       [0.8229676 , 0.17703243],\n",
       "       [0.8754409 , 0.1245591 ],\n",
       "       [0.955617  , 0.04438291],\n",
       "       [0.9242166 , 0.07578335],\n",
       "       [0.03409072, 0.96590924],\n",
       "       [0.75458556, 0.2454144 ],\n",
       "       [0.95575815, 0.0442419 ],\n",
       "       [0.94443196, 0.05556807],\n",
       "       [0.04884086, 0.9511591 ],\n",
       "       [0.07932371, 0.92067635],\n",
       "       [0.02045326, 0.9795467 ],\n",
       "       [0.04547286, 0.95452714]], dtype=float32)"
      ]
     },
     "execution_count": 35,
     "metadata": {},
     "output_type": "execute_result"
    }
   ],
   "source": [
    "predictions[0:30]"
   ]
  },
  {
   "cell_type": "code",
   "execution_count": 33,
   "metadata": {},
   "outputs": [
    {
     "data": {
      "text/plain": [
       "array([1, 1, 1, 1, 0, 0, 0, 0, 1, 0, 1, 0, 0, 0, 0, 0, 1, 1, 0, 0, 0, 0,\n",
       "       1, 0, 0, 0, 1, 1, 1, 1])"
      ]
     },
     "execution_count": 33,
     "metadata": {},
     "output_type": "execute_result"
    }
   ],
   "source": [
    "test_labels[0:30]"
   ]
  },
  {
   "cell_type": "code",
   "execution_count": 34,
   "metadata": {},
   "outputs": [
    {
     "data": {
      "text/plain": [
       "array([0, 1, 1, 1, 0, 1, 0, 0, 1, 0, 1, 0, 0, 0, 0, 0, 1, 1, 0, 0, 0, 0,\n",
       "       1, 0, 0, 0, 1, 1, 1, 1])"
      ]
     },
     "execution_count": 34,
     "metadata": {},
     "output_type": "execute_result"
    }
   ],
   "source": [
    "rounded_predictions = np.argmax(predictions, axis=-1)\n",
    "rounded_predictions[0:30]"
   ]
  },
  {
   "cell_type": "markdown",
   "metadata": {},
   "source": [
    "# Confusion Matrix\n",
    "\n",
    "Gives us a better way to see how accurate our model was at inferring on test data"
   ]
  },
  {
   "cell_type": "code",
   "execution_count": 36,
   "metadata": {},
   "outputs": [],
   "source": [
    "%matplotlib inline\n",
    "from sklearn.metrics import confusion_matrix\n",
    "import itertools\n",
    "import matplotlib.pyplot as plt"
   ]
  },
  {
   "cell_type": "code",
   "execution_count": 37,
   "metadata": {},
   "outputs": [],
   "source": [
    "cm = confusion_matrix(y_true=test_labels, y_pred=rounded_predictions)"
   ]
  },
  {
   "cell_type": "markdown",
   "metadata": {},
   "source": [
    "**Confusion matrix visualization**"
   ]
  },
  {
   "cell_type": "code",
   "execution_count": 38,
   "metadata": {},
   "outputs": [],
   "source": [
    "def plot_confusion_matrix(cm, classes,\n",
    "                        normalize=False,\n",
    "                        title='Confusion matrix',\n",
    "                        cmap=plt.cm.Blues):\n",
    "    \"\"\"\n",
    "    This function prints and plots the confusion matrix.\n",
    "    Normalization can be applied by setting `normalize=True`.\n",
    "    \"\"\"\n",
    "    plt.imshow(cm, interpolation='nearest', cmap=cmap)\n",
    "    plt.title(title)\n",
    "    plt.colorbar()\n",
    "    tick_marks = np.arange(len(classes))\n",
    "    plt.xticks(tick_marks, classes, rotation=45)\n",
    "    plt.yticks(tick_marks, classes)\n",
    "\n",
    "    if normalize:\n",
    "        cm = cm.astype('float') / cm.sum(axis=1)[:, np.newaxis]\n",
    "        print(\"Normalized confusion matrix\")\n",
    "    else:\n",
    "        print('Confusion matrix, without normalization')\n",
    "\n",
    "    print(cm)\n",
    "\n",
    "    thresh = cm.max() / 2.\n",
    "    for i, j in itertools.product(range(cm.shape[0]), range(cm.shape[1])):\n",
    "        plt.text(j, i, cm[i, j],\n",
    "            horizontalalignment=\"center\",\n",
    "            color=\"white\" if cm[i, j] > thresh else \"black\")\n",
    "\n",
    "    plt.tight_layout()\n",
    "    plt.ylabel('True label')\n",
    "    plt.xlabel('Predicted label')"
   ]
  },
  {
   "cell_type": "code",
   "execution_count": 39,
   "metadata": {},
   "outputs": [
    {
     "name": "stdout",
     "output_type": "stream",
     "text": [
      "Confusion matrix, without normalization\n",
      "[[197  13]\n",
      " [  9 201]]\n"
     ]
    },
    {
     "data": {
      "image/png": "[encoded data removed]",
      "text/plain": [
       "<Figure size 432x288 with 2 Axes>"
      ]
     },
     "metadata": {
      "needs_background": "light"
     },
     "output_type": "display_data"
    }
   ],
   "source": [
    "cm_plot_labels = ['no_side_effects','had_side_effects']\n",
    "plot_confusion_matrix(cm=cm, classes=cm_plot_labels, title='Confusion Matrix')"
   ]
  },
  {
   "cell_type": "markdown",
   "metadata": {},
   "source": [
    "**Confusion Matrix Intetpretation**\n",
    "\n",
    "The Confusion Matrix shows:\n",
    "- 9 patients were wrong predicted as no side effects \n",
    "- and, 13 patients were wrong predicted as had_side_effects.\n"
   ]
  },
  {
   "cell_type": "markdown",
   "metadata": {},
   "source": [
    "# Save and Load Keras Sequential Model"
   ]
  },
  {
   "cell_type": "markdown",
   "metadata": {},
   "source": [
    "## 1. model.save()"
   ]
  },
  {
   "cell_type": "code",
   "execution_count": 42,
   "metadata": {},
   "outputs": [],
   "source": [
    "# Checks first to see if file exists already.\n",
    "# If not, the model is save to disk\n",
    "\n",
    "import os.path\n",
    "\n",
    "#If the file is not found on disk it saves the model\n",
    "if os.path.isfile('models/medical_trial_model.h5') is False:\n",
    "    model.save('models/medical_trial_model.h5')"
   ]
  },
  {
   "cell_type": "markdown",
   "metadata": {},
   "source": [
    "This save functions save:\n",
    "- The architecture of the model, allowing to re-create the model.\n",
    "- The weights of the model\n",
    "- The training configuration (loss, optmizer)\n",
    "- The state of the optimizer, allowing to resume training exactly where you left off."
   ]
  },
  {
   "cell_type": "markdown",
   "metadata": {},
   "source": [
    "## 2. load_model"
   ]
  },
  {
   "cell_type": "code",
   "execution_count": 43,
   "metadata": {},
   "outputs": [],
   "source": [
    "from tensorflow.keras.models import load_model\n",
    "new_model = load_model('models/medical_trial_model.h5')"
   ]
  },
  {
   "cell_type": "markdown",
   "metadata": {},
   "source": [
    "We can see the model has the same architecture as the model that we built."
   ]
  },
  {
   "cell_type": "code",
   "execution_count": 44,
   "metadata": {},
   "outputs": [
    {
     "name": "stdout",
     "output_type": "stream",
     "text": [
      "Model: \"sequential_1\"\n",
      "_________________________________________________________________\n",
      "Layer (type)                 Output Shape              Param #   \n",
      "=================================================================\n",
      "dense_3 (Dense)              (None, 16)                32        \n",
      "_________________________________________________________________\n",
      "dense_4 (Dense)              (None, 32)                544       \n",
      "_________________________________________________________________\n",
      "dense_5 (Dense)              (None, 2)                 66        \n",
      "=================================================================\n",
      "Total params: 642\n",
      "Trainable params: 642\n",
      "Non-trainable params: 0\n",
      "_________________________________________________________________\n"
     ]
    }
   ],
   "source": [
    "new_model.summary()"
   ]
  },
  {
   "cell_type": "markdown",
   "metadata": {},
   "source": [
    "### weights"
   ]
  },
  {
   "cell_type": "code",
   "execution_count": 45,
   "metadata": {},
   "outputs": [
    {
     "data": {
      "text/plain": [
       "[array([[-0.10573104,  0.62871176,  0.3259824 , -0.05010688, -0.22561619,\n",
       "         -0.32110667, -0.13801318, -0.43255848, -0.12636214,  0.57012707,\n",
       "         -0.492315  ,  0.40340227, -0.53454095,  0.16274261,  0.3636412 ,\n",
       "         -0.45543304]], dtype=float32),\n",
       " array([ 0.        , -0.0922956 , -0.10957147,  0.        ,  0.        ,\n",
       "         0.        ,  0.        ,  0.        ,  0.        , -0.11234007,\n",
       "         0.        , -0.130313  ,  0.        ,  0.06896851, -0.11814047,\n",
       "         0.        ], dtype=float32),\n",
       " array([[ 0.23161975, -0.3134859 ,  0.1309441 , -0.02229923, -0.24890715,\n",
       "         -0.16309683, -0.26957148, -0.04601139, -0.23957019, -0.04272231,\n",
       "         -0.08149946,  0.08133566, -0.11735907, -0.29037863,  0.08751985,\n",
       "          0.07381725,  0.01250505,  0.290754  ,  0.01183128,  0.31999567,\n",
       "          0.06517303, -0.26023057,  0.00950581, -0.07651868, -0.30238265,\n",
       "          0.1115891 ,  0.16762373,  0.2817001 ,  0.08855566, -0.24807575,\n",
       "         -0.05815929, -0.2637114 ],\n",
       "        [ 0.41785094,  0.03949784, -0.10023765,  0.3699904 , -0.24410695,\n",
       "          0.10638822, -0.03726863,  0.26728618,  0.17285027,  0.31738243,\n",
       "         -0.05190814, -0.12124341, -0.35532922, -0.107985  ,  0.5124192 ,\n",
       "         -0.03775926,  0.31467953,  0.30664438,  0.38736087, -0.1217161 ,\n",
       "         -0.30035043, -0.07675201, -0.0049825 ,  0.2627044 , -0.05002788,\n",
       "         -0.22076459,  0.45615897, -0.00495351,  0.18900053,  0.194598  ,\n",
       "          0.17123474,  0.3900444 ],\n",
       "        [ 0.59887207, -0.26109654,  0.13464762, -0.04705128, -0.47471532,\n",
       "          0.29102567, -0.2618817 ,  0.39975524, -0.43144238,  0.19390951,\n",
       "         -0.52520853,  0.28888863,  0.03545642, -0.02297237,  0.24136437,\n",
       "         -0.0467222 ,  0.5801821 , -0.11911643,  0.3839233 , -0.47654238,\n",
       "          0.09983543,  0.10733595, -0.48892525,  0.07412612,  0.13305183,\n",
       "          0.21708699,  0.08714431, -0.45017344, -0.35195014, -0.50765795,\n",
       "          0.39776585,  0.11092163],\n",
       "        [ 0.29314855,  0.23285255,  0.08605972, -0.24013233,  0.24086788,\n",
       "          0.23749784,  0.27450433,  0.21326843, -0.05414858,  0.02902728,\n",
       "         -0.17675807,  0.03963   , -0.01923186, -0.11513634,  0.33631268,\n",
       "          0.00373659, -0.15646924, -0.2550267 ,  0.34070894,  0.221441  ,\n",
       "         -0.24370588,  0.18339399, -0.27793485, -0.23699552,  0.15813354,\n",
       "          0.24788794,  0.15879098,  0.15545258,  0.05824998, -0.24387245,\n",
       "          0.00789309, -0.01442418],\n",
       "        [ 0.02723595,  0.1524336 , -0.32614496,  0.2795135 , -0.06802374,\n",
       "         -0.09229383,  0.14704117,  0.19771358, -0.2050901 , -0.04528967,\n",
       "          0.17640606,  0.1651558 , -0.24239436,  0.20596   , -0.11565761,\n",
       "         -0.3363123 , -0.28131106,  0.15418133, -0.11278598,  0.13442063,\n",
       "          0.00301981, -0.32270887, -0.07418403, -0.0519771 , -0.35029155,\n",
       "         -0.04776686, -0.13273753, -0.28936028,  0.03021121, -0.2767561 ,\n",
       "         -0.10102001,  0.10693708],\n",
       "        [ 0.07477161, -0.11455952,  0.32592335, -0.18942842, -0.23746976,\n",
       "         -0.02655184, -0.30159828, -0.2611987 , -0.11949188, -0.12116966,\n",
       "         -0.03920585,  0.01631513, -0.30002764,  0.06549782, -0.30459797,\n",
       "          0.21451446, -0.21179372,  0.17876711, -0.30163994, -0.18622509,\n",
       "         -0.02220473, -0.29792696, -0.12680537, -0.23279482, -0.27900523,\n",
       "         -0.22750928, -0.31328124, -0.32093123, -0.13398145, -0.05830973,\n",
       "         -0.08244723, -0.1947112 ],\n",
       "        [ 0.26220265,  0.05843297, -0.05426195,  0.16719553, -0.14171945,\n",
       "          0.19421008,  0.07318404, -0.1672762 , -0.31990612,  0.2612624 ,\n",
       "          0.18232825, -0.34270808, -0.00605699,  0.2825819 ,  0.06974891,\n",
       "         -0.08315623,  0.04683602,  0.30456355,  0.05506966, -0.25742823,\n",
       "          0.13073969, -0.26981425, -0.28868863, -0.19504112,  0.25143573,\n",
       "         -0.11264925, -0.15564872,  0.18625966, -0.29373133, -0.11023837,\n",
       "         -0.01483259, -0.1749069 ],\n",
       "        [ 0.31707564,  0.10610384,  0.22435382, -0.18086334, -0.19732328,\n",
       "         -0.23589203,  0.04984859, -0.17826322, -0.22115327, -0.20939076,\n",
       "          0.3503063 , -0.29616928, -0.24302159,  0.24153754,  0.10217121,\n",
       "          0.181398  , -0.10384595, -0.08632147,  0.2671263 ,  0.33978638,\n",
       "         -0.15541683, -0.15255094, -0.01808757, -0.2034168 ,  0.16708073,\n",
       "         -0.11843112, -0.26752728,  0.32988623, -0.03075609, -0.18029967,\n",
       "          0.07110375, -0.34685135],\n",
       "        [ 0.28925106,  0.10277602,  0.25084832,  0.18495974,  0.33482394,\n",
       "          0.11053771, -0.16148177, -0.33362955, -0.03030434,  0.23092875,\n",
       "          0.13107687, -0.13408262,  0.05136478,  0.09636673, -0.13425988,\n",
       "         -0.3204881 ,  0.29776165, -0.24982561, -0.12817986, -0.2817914 ,\n",
       "          0.28947112, -0.25693688,  0.11860889, -0.2608126 , -0.02500066,\n",
       "         -0.00295305,  0.10380515, -0.18119612, -0.20433272,  0.13680682,\n",
       "         -0.33847222, -0.336023  ],\n",
       "        [ 0.26421115, -0.16815202,  0.1742286 ,  0.5213948 , -0.18437938,\n",
       "          0.36415237,  0.05127674,  0.26300117, -0.22545387,  0.34836146,\n",
       "          0.02095998, -0.09188389, -0.06066883, -0.318754  ,  0.2956259 ,\n",
       "          0.36207923,  0.1730421 ,  0.26380238,  0.06561611, -0.01170963,\n",
       "         -0.23540834, -0.06369322, -0.18637794,  0.36715233, -0.2757045 ,\n",
       "          0.26271117,  0.20549646, -0.05266568,  0.20437266, -0.3128315 ,\n",
       "          0.5029353 ,  0.29023707],\n",
       "        [-0.06670642, -0.07221693, -0.22908077,  0.00830606, -0.16773789,\n",
       "          0.05034128,  0.17112169,  0.29418626,  0.01213089, -0.32284546,\n",
       "          0.32836744,  0.14207458,  0.0845491 , -0.1306146 ,  0.15202054,\n",
       "          0.21639952, -0.2969457 ,  0.26993874, -0.3057227 , -0.16563754,\n",
       "          0.06738481,  0.24561849,  0.15111986, -0.18384759, -0.24218851,\n",
       "          0.13581392,  0.14219707,  0.00651455, -0.19053772, -0.10285777,\n",
       "         -0.23352768,  0.08269474],\n",
       "        [ 0.09204735, -0.26306248, -0.20056464,  0.21742262, -0.10232614,\n",
       "          0.06564746, -0.24180189,  0.4134263 , -0.33390635,  0.07891022,\n",
       "         -0.35926092, -0.0832772 , -0.19754319, -0.36536244, -0.02258674,\n",
       "          0.47896516,  0.26889008,  0.15803458,  0.3054502 , -0.4453096 ,\n",
       "         -0.4517018 ,  0.12603441, -0.09581339,  0.19763525,  0.01426549,\n",
       "         -0.25606847, -0.10127895, -0.28813708,  0.16262622, -0.14477503,\n",
       "          0.500246  ,  0.27066448],\n",
       "        [ 0.2323725 ,  0.14370272,  0.14009452, -0.31866607, -0.21737127,\n",
       "          0.20153806, -0.03997105, -0.19987501, -0.06163529, -0.03483251,\n",
       "         -0.14400803, -0.10016409,  0.32463196,  0.29361442, -0.293543  ,\n",
       "          0.33852366, -0.25823325, -0.1315163 , -0.2375779 , -0.0881058 ,\n",
       "         -0.10158226,  0.22373238,  0.21824077,  0.0971061 ,  0.09020311,\n",
       "         -0.3015638 ,  0.05034229,  0.19175729, -0.09881574, -0.20778953,\n",
       "         -0.1770144 , -0.00693619],\n",
       "        [ 0.04778315,  0.06275543, -0.32600763, -0.0244479 ,  0.35552892,\n",
       "          0.3832233 ,  0.05657008,  0.1121824 ,  0.05441918, -0.04944244,\n",
       "          0.11566416,  0.19506332, -0.10501807,  0.31560665, -0.04507035,\n",
       "          0.44320554,  0.27564606,  0.2668438 ,  0.131083  ,  0.35616577,\n",
       "          0.01283826,  0.08729344, -0.10837357, -0.0678594 , -0.38666445,\n",
       "         -0.30244046, -0.0155924 , -0.11837984, -0.08775894, -0.19047388,\n",
       "          0.29111773, -0.22807398],\n",
       "        [ 0.06516707, -0.56026554,  0.10609263,  0.4971488 , -0.2786157 ,\n",
       "          0.11117922,  0.0378001 ,  0.410311  , -0.2887346 ,  0.39472935,\n",
       "         -0.23504354, -0.14969967, -0.26011842, -0.40275988,  0.43439743,\n",
       "          0.5046347 ,  0.33848763,  0.36272347,  0.43343154, -0.32576424,\n",
       "          0.01978929, -0.3393149 , -0.4213452 ,  0.4944494 ,  0.1477271 ,\n",
       "          0.02186149,  0.491915  , -0.5150309 , -0.0447234 ,  0.09435828,\n",
       "          0.00531591,  0.3336288 ],\n",
       "        [-0.05030227,  0.30694774,  0.20452991, -0.33761638,  0.05586809,\n",
       "         -0.26050806, -0.03226662, -0.05064633, -0.24341457,  0.12132594,\n",
       "         -0.30084258,  0.08213595, -0.25700626,  0.14729074,  0.24200013,\n",
       "          0.26901498,  0.32451352,  0.00581551, -0.35256487, -0.28653163,\n",
       "          0.33123884,  0.01017603, -0.27997816, -0.1965954 ,  0.0861344 ,\n",
       "         -0.22064313,  0.08088097,  0.15380749,  0.2675384 , -0.05591258,\n",
       "          0.07671636, -0.26157877]], dtype=float32),\n",
       " array([-0.08699775,  0.20579904, -0.00252003, -0.08788246,  0.2390661 ,\n",
       "        -0.08831743, -0.00815546, -0.08285268,  0.16715336, -0.0741941 ,\n",
       "         0.17195937, -0.01906506,  0.2582177 ,  0.24188913, -0.08500413,\n",
       "        -0.08238272, -0.09060965, -0.04481224, -0.07680629,  0.20170899,\n",
       "         0.26643428, -0.00883494,  0.2454654 , -0.07123306,  0.1366043 ,\n",
       "        -0.00051254, -0.07796109,  0.24892937,  0.1316341 ,  0.14594087,\n",
       "        -0.09188354, -0.06436069], dtype=float32),\n",
       " array([[-1.1580757e-02,  5.1485848e-01],\n",
       "        [ 6.1620253e-01, -3.3430386e-02],\n",
       "        [ 3.7400755e-01, -2.0933531e-01],\n",
       "        [-3.6868828e-04,  6.1063373e-01],\n",
       "        [ 8.5150963e-01, -5.3403783e-01],\n",
       "        [-6.0066468e-01,  5.0292587e-01],\n",
       "        [-4.0800679e-01,  3.8700566e-02],\n",
       "        [-2.7474236e-02,  3.9103743e-01],\n",
       "        [ 6.6940910e-01, -6.7252165e-01],\n",
       "        [-4.0869117e-01,  3.3375967e-01],\n",
       "        [ 4.3371955e-01, -7.1895874e-01],\n",
       "        [ 3.8387377e-02,  1.7851953e-01],\n",
       "        [ 4.2084357e-01, -5.3343570e-01],\n",
       "        [ 7.7206278e-01, -1.4471829e-01],\n",
       "        [-4.6519318e-01,  2.4196699e-01],\n",
       "        [-6.0484189e-01,  5.9989148e-01],\n",
       "        [-5.7096094e-01, -1.5421358e-02],\n",
       "        [ 1.4871666e-01,  2.6104897e-01],\n",
       "        [-5.1748347e-01,  2.8580338e-01],\n",
       "        [ 7.9466039e-01, -7.4449039e-01],\n",
       "        [ 3.1280071e-01, -8.0417722e-01],\n",
       "        [ 7.8098640e-02,  3.2221621e-01],\n",
       "        [ 5.3441054e-01, -5.1962119e-01],\n",
       "        [-4.6831521e-01,  1.9871749e-01],\n",
       "        [ 1.2162855e-01, -2.3898202e-01],\n",
       "        [-3.2098651e-02,  3.2825771e-01],\n",
       "        [-4.3603715e-01,  5.0516295e-01],\n",
       "        [ 3.6449793e-01, -6.5740871e-01],\n",
       "        [ 4.6877835e-02, -2.9468313e-01],\n",
       "        [ 4.8504218e-01, -5.4779059e-01],\n",
       "        [-3.0934215e-01,  5.4545999e-01],\n",
       "        [-1.3364021e-01,  6.0452914e-01]], dtype=float32),\n",
       " array([ 0.14151835, -0.14151837], dtype=float32)]"
      ]
     },
     "execution_count": 45,
     "metadata": {},
     "output_type": "execute_result"
    }
   ],
   "source": [
    "new_model.get_weights()"
   ]
  },
  {
   "cell_type": "markdown",
   "metadata": {},
   "source": [
    "### optimizer"
   ]
  },
  {
   "cell_type": "code",
   "execution_count": 46,
   "metadata": {},
   "outputs": [
    {
     "data": {
      "text/plain": [
       "<tensorflow.python.keras.optimizer_v2.adam.Adam at 0x7f07f0114908>"
      ]
     },
     "execution_count": 46,
     "metadata": {},
     "output_type": "execute_result"
    }
   ],
   "source": [
    "new_model.optimizer"
   ]
  },
  {
   "cell_type": "markdown",
   "metadata": {},
   "source": [
    "## 3. Save model into json format file\n",
    "\n",
    "If you only need to save the achitecture of a model, and not its weights or its training configuration, you can use the following function to save the architecture only.\n",
    "\n",
    "In this case you need to retrain the model because we don't have the model weights saved, and for that we need the compile, the optimizer and loss, etc."
   ]
  },
  {
   "cell_type": "code",
   "execution_count": 48,
   "metadata": {},
   "outputs": [],
   "source": [
    "# save as JSON\n",
    "json_string = model.to_json()\n",
    "\n",
    "# save as YAML\n",
    "# yaml_string = model.to_yaml()"
   ]
  },
  {
   "cell_type": "code",
   "execution_count": 49,
   "metadata": {},
   "outputs": [
    {
     "data": {
      "text/plain": [
       "'{\"class_name\": \"Sequential\", \"config\": {\"name\": \"sequential_1\", \"layers\": [{\"class_name\": \"Dense\", \"config\": {\"name\": \"dense_3\", \"trainable\": true, \"batch_input_shape\": [null, 1], \"dtype\": \"float32\", \"units\": 16, \"activation\": \"relu\", \"use_bias\": true, \"kernel_initializer\": {\"class_name\": \"GlorotUniform\", \"config\": {\"seed\": null}}, \"bias_initializer\": {\"class_name\": \"Zeros\", \"config\": {}}, \"kernel_regularizer\": null, \"bias_regularizer\": null, \"activity_regularizer\": null, \"kernel_constraint\": null, \"bias_constraint\": null}}, {\"class_name\": \"Dense\", \"config\": {\"name\": \"dense_4\", \"trainable\": true, \"dtype\": \"float32\", \"units\": 32, \"activation\": \"relu\", \"use_bias\": true, \"kernel_initializer\": {\"class_name\": \"GlorotUniform\", \"config\": {\"seed\": null}}, \"bias_initializer\": {\"class_name\": \"Zeros\", \"config\": {}}, \"kernel_regularizer\": null, \"bias_regularizer\": null, \"activity_regularizer\": null, \"kernel_constraint\": null, \"bias_constraint\": null}}, {\"class_name\": \"Dense\", \"config\": {\"name\": \"dense_5\", \"trainable\": true, \"dtype\": \"float32\", \"units\": 2, \"activation\": \"softmax\", \"use_bias\": true, \"kernel_initializer\": {\"class_name\": \"GlorotUniform\", \"config\": {\"seed\": null}}, \"bias_initializer\": {\"class_name\": \"Zeros\", \"config\": {}}, \"kernel_regularizer\": null, \"bias_regularizer\": null, \"activity_regularizer\": null, \"kernel_constraint\": null, \"bias_constraint\": null}}], \"build_input_shape\": [null, 1]}, \"keras_version\": \"2.3.0-tf\", \"backend\": \"tensorflow\"}'"
      ]
     },
     "execution_count": 49,
     "metadata": {},
     "output_type": "execute_result"
    }
   ],
   "source": [
    "json_string"
   ]
  },
  {
   "cell_type": "markdown",
   "metadata": {},
   "source": [
    "### Load JSON model file"
   ]
  },
  {
   "cell_type": "code",
   "execution_count": 50,
   "metadata": {},
   "outputs": [],
   "source": [
    "from tensorflow.keras.models import model_from_json\n",
    "model_architecture = model_from_json(json_string)\n",
    "\n",
    "# model reconstruction from YAML\n",
    "# from tensor.flow.kearas import model_from_yaml\n",
    "# model = model_from_yaml(yaml_string)"
   ]
  },
  {
   "cell_type": "code",
   "execution_count": 52,
   "metadata": {},
   "outputs": [
    {
     "name": "stdout",
     "output_type": "stream",
     "text": [
      "Model: \"sequential_1\"\n",
      "_________________________________________________________________\n",
      "Layer (type)                 Output Shape              Param #   \n",
      "=================================================================\n",
      "dense_3 (Dense)              (None, 16)                32        \n",
      "_________________________________________________________________\n",
      "dense_4 (Dense)              (None, 32)                544       \n",
      "_________________________________________________________________\n",
      "dense_5 (Dense)              (None, 2)                 66        \n",
      "=================================================================\n",
      "Total params: 642\n",
      "Trainable params: 642\n",
      "Non-trainable params: 0\n",
      "_________________________________________________________________\n"
     ]
    }
   ],
   "source": [
    "model_architecture.summary()"
   ]
  },
  {
   "cell_type": "markdown",
   "metadata": {},
   "source": [
    "## 4. Save only the weights  of the model\n",
    "\n",
    "If you only need to save the weights of a model, you can use the following function save thhe weights only."
   ]
  },
  {
   "cell_type": "code",
   "execution_count": 54,
   "metadata": {},
   "outputs": [],
   "source": [
    "# Checks first to see if file exists already.\n",
    "# If not, the model is save to disk\n",
    "\n",
    "import os.path\n",
    "\n",
    "# If the file is not found on disk it saves the model\n",
    "if os.path.isfile('models/my_model_weights.h5') is False:\n",
    "    model.save('models/my_model_weights.h5')"
   ]
  },
  {
   "cell_type": "markdown",
   "metadata": {},
   "source": [
    "When we save only the weights if we want to load them at a later time then we don't have a model already in place because we didn't save the model itself we only save the weights. So to be able to bring our weights to a new model then we need to create a second model at that model with the same architecture and then could load the weights in. "
   ]
  },
  {
   "cell_type": "code",
   "execution_count": 57,
   "metadata": {},
   "outputs": [],
   "source": [
    "model2 = Sequential([\n",
    "    # first hidden layer requires the shape of the input data\n",
    "    Dense(units=16, input_shape=(1,), activation='relu'),\n",
    "    Dense(units=32, activation='relu'),\n",
    "    # output layer: full connected layer\n",
    "    Dense(units=2, activation=\"softmax\")\n",
    "])"
   ]
  },
  {
   "cell_type": "markdown",
   "metadata": {},
   "source": [
    "Now we can load the weights, and the shape of these weights is going to have to match the shape of what this model architecture is essentially."
   ]
  },
  {
   "cell_type": "code",
   "execution_count": 58,
   "metadata": {},
   "outputs": [
    {
     "data": {
      "text/plain": [
       "[array([[-0.10573104,  0.62871176,  0.3259824 , -0.05010688, -0.22561619,\n",
       "         -0.32110667, -0.13801318, -0.43255848, -0.12636214,  0.57012707,\n",
       "         -0.492315  ,  0.40340227, -0.53454095,  0.16274261,  0.3636412 ,\n",
       "         -0.45543304]], dtype=float32),\n",
       " array([ 0.        , -0.0922956 , -0.10957147,  0.        ,  0.        ,\n",
       "         0.        ,  0.        ,  0.        ,  0.        , -0.11234007,\n",
       "         0.        , -0.130313  ,  0.        ,  0.06896851, -0.11814047,\n",
       "         0.        ], dtype=float32),\n",
       " array([[ 0.23161975, -0.3134859 ,  0.1309441 , -0.02229923, -0.24890715,\n",
       "         -0.16309683, -0.26957148, -0.04601139, -0.23957019, -0.04272231,\n",
       "         -0.08149946,  0.08133566, -0.11735907, -0.29037863,  0.08751985,\n",
       "          0.07381725,  0.01250505,  0.290754  ,  0.01183128,  0.31999567,\n",
       "          0.06517303, -0.26023057,  0.00950581, -0.07651868, -0.30238265,\n",
       "          0.1115891 ,  0.16762373,  0.2817001 ,  0.08855566, -0.24807575,\n",
       "         -0.05815929, -0.2637114 ],\n",
       "        [ 0.41785094,  0.03949784, -0.10023765,  0.3699904 , -0.24410695,\n",
       "          0.10638822, -0.03726863,  0.26728618,  0.17285027,  0.31738243,\n",
       "         -0.05190814, -0.12124341, -0.35532922, -0.107985  ,  0.5124192 ,\n",
       "         -0.03775926,  0.31467953,  0.30664438,  0.38736087, -0.1217161 ,\n",
       "         -0.30035043, -0.07675201, -0.0049825 ,  0.2627044 , -0.05002788,\n",
       "         -0.22076459,  0.45615897, -0.00495351,  0.18900053,  0.194598  ,\n",
       "          0.17123474,  0.3900444 ],\n",
       "        [ 0.59887207, -0.26109654,  0.13464762, -0.04705128, -0.47471532,\n",
       "          0.29102567, -0.2618817 ,  0.39975524, -0.43144238,  0.19390951,\n",
       "         -0.52520853,  0.28888863,  0.03545642, -0.02297237,  0.24136437,\n",
       "         -0.0467222 ,  0.5801821 , -0.11911643,  0.3839233 , -0.47654238,\n",
       "          0.09983543,  0.10733595, -0.48892525,  0.07412612,  0.13305183,\n",
       "          0.21708699,  0.08714431, -0.45017344, -0.35195014, -0.50765795,\n",
       "          0.39776585,  0.11092163],\n",
       "        [ 0.29314855,  0.23285255,  0.08605972, -0.24013233,  0.24086788,\n",
       "          0.23749784,  0.27450433,  0.21326843, -0.05414858,  0.02902728,\n",
       "         -0.17675807,  0.03963   , -0.01923186, -0.11513634,  0.33631268,\n",
       "          0.00373659, -0.15646924, -0.2550267 ,  0.34070894,  0.221441  ,\n",
       "         -0.24370588,  0.18339399, -0.27793485, -0.23699552,  0.15813354,\n",
       "          0.24788794,  0.15879098,  0.15545258,  0.05824998, -0.24387245,\n",
       "          0.00789309, -0.01442418],\n",
       "        [ 0.02723595,  0.1524336 , -0.32614496,  0.2795135 , -0.06802374,\n",
       "         -0.09229383,  0.14704117,  0.19771358, -0.2050901 , -0.04528967,\n",
       "          0.17640606,  0.1651558 , -0.24239436,  0.20596   , -0.11565761,\n",
       "         -0.3363123 , -0.28131106,  0.15418133, -0.11278598,  0.13442063,\n",
       "          0.00301981, -0.32270887, -0.07418403, -0.0519771 , -0.35029155,\n",
       "         -0.04776686, -0.13273753, -0.28936028,  0.03021121, -0.2767561 ,\n",
       "         -0.10102001,  0.10693708],\n",
       "        [ 0.07477161, -0.11455952,  0.32592335, -0.18942842, -0.23746976,\n",
       "         -0.02655184, -0.30159828, -0.2611987 , -0.11949188, -0.12116966,\n",
       "         -0.03920585,  0.01631513, -0.30002764,  0.06549782, -0.30459797,\n",
       "          0.21451446, -0.21179372,  0.17876711, -0.30163994, -0.18622509,\n",
       "         -0.02220473, -0.29792696, -0.12680537, -0.23279482, -0.27900523,\n",
       "         -0.22750928, -0.31328124, -0.32093123, -0.13398145, -0.05830973,\n",
       "         -0.08244723, -0.1947112 ],\n",
       "        [ 0.26220265,  0.05843297, -0.05426195,  0.16719553, -0.14171945,\n",
       "          0.19421008,  0.07318404, -0.1672762 , -0.31990612,  0.2612624 ,\n",
       "          0.18232825, -0.34270808, -0.00605699,  0.2825819 ,  0.06974891,\n",
       "         -0.08315623,  0.04683602,  0.30456355,  0.05506966, -0.25742823,\n",
       "          0.13073969, -0.26981425, -0.28868863, -0.19504112,  0.25143573,\n",
       "         -0.11264925, -0.15564872,  0.18625966, -0.29373133, -0.11023837,\n",
       "         -0.01483259, -0.1749069 ],\n",
       "        [ 0.31707564,  0.10610384,  0.22435382, -0.18086334, -0.19732328,\n",
       "         -0.23589203,  0.04984859, -0.17826322, -0.22115327, -0.20939076,\n",
       "          0.3503063 , -0.29616928, -0.24302159,  0.24153754,  0.10217121,\n",
       "          0.181398  , -0.10384595, -0.08632147,  0.2671263 ,  0.33978638,\n",
       "         -0.15541683, -0.15255094, -0.01808757, -0.2034168 ,  0.16708073,\n",
       "         -0.11843112, -0.26752728,  0.32988623, -0.03075609, -0.18029967,\n",
       "          0.07110375, -0.34685135],\n",
       "        [ 0.28925106,  0.10277602,  0.25084832,  0.18495974,  0.33482394,\n",
       "          0.11053771, -0.16148177, -0.33362955, -0.03030434,  0.23092875,\n",
       "          0.13107687, -0.13408262,  0.05136478,  0.09636673, -0.13425988,\n",
       "         -0.3204881 ,  0.29776165, -0.24982561, -0.12817986, -0.2817914 ,\n",
       "          0.28947112, -0.25693688,  0.11860889, -0.2608126 , -0.02500066,\n",
       "         -0.00295305,  0.10380515, -0.18119612, -0.20433272,  0.13680682,\n",
       "         -0.33847222, -0.336023  ],\n",
       "        [ 0.26421115, -0.16815202,  0.1742286 ,  0.5213948 , -0.18437938,\n",
       "          0.36415237,  0.05127674,  0.26300117, -0.22545387,  0.34836146,\n",
       "          0.02095998, -0.09188389, -0.06066883, -0.318754  ,  0.2956259 ,\n",
       "          0.36207923,  0.1730421 ,  0.26380238,  0.06561611, -0.01170963,\n",
       "         -0.23540834, -0.06369322, -0.18637794,  0.36715233, -0.2757045 ,\n",
       "          0.26271117,  0.20549646, -0.05266568,  0.20437266, -0.3128315 ,\n",
       "          0.5029353 ,  0.29023707],\n",
       "        [-0.06670642, -0.07221693, -0.22908077,  0.00830606, -0.16773789,\n",
       "          0.05034128,  0.17112169,  0.29418626,  0.01213089, -0.32284546,\n",
       "          0.32836744,  0.14207458,  0.0845491 , -0.1306146 ,  0.15202054,\n",
       "          0.21639952, -0.2969457 ,  0.26993874, -0.3057227 , -0.16563754,\n",
       "          0.06738481,  0.24561849,  0.15111986, -0.18384759, -0.24218851,\n",
       "          0.13581392,  0.14219707,  0.00651455, -0.19053772, -0.10285777,\n",
       "         -0.23352768,  0.08269474],\n",
       "        [ 0.09204735, -0.26306248, -0.20056464,  0.21742262, -0.10232614,\n",
       "          0.06564746, -0.24180189,  0.4134263 , -0.33390635,  0.07891022,\n",
       "         -0.35926092, -0.0832772 , -0.19754319, -0.36536244, -0.02258674,\n",
       "          0.47896516,  0.26889008,  0.15803458,  0.3054502 , -0.4453096 ,\n",
       "         -0.4517018 ,  0.12603441, -0.09581339,  0.19763525,  0.01426549,\n",
       "         -0.25606847, -0.10127895, -0.28813708,  0.16262622, -0.14477503,\n",
       "          0.500246  ,  0.27066448],\n",
       "        [ 0.2323725 ,  0.14370272,  0.14009452, -0.31866607, -0.21737127,\n",
       "          0.20153806, -0.03997105, -0.19987501, -0.06163529, -0.03483251,\n",
       "         -0.14400803, -0.10016409,  0.32463196,  0.29361442, -0.293543  ,\n",
       "          0.33852366, -0.25823325, -0.1315163 , -0.2375779 , -0.0881058 ,\n",
       "         -0.10158226,  0.22373238,  0.21824077,  0.0971061 ,  0.09020311,\n",
       "         -0.3015638 ,  0.05034229,  0.19175729, -0.09881574, -0.20778953,\n",
       "         -0.1770144 , -0.00693619],\n",
       "        [ 0.04778315,  0.06275543, -0.32600763, -0.0244479 ,  0.35552892,\n",
       "          0.3832233 ,  0.05657008,  0.1121824 ,  0.05441918, -0.04944244,\n",
       "          0.11566416,  0.19506332, -0.10501807,  0.31560665, -0.04507035,\n",
       "          0.44320554,  0.27564606,  0.2668438 ,  0.131083  ,  0.35616577,\n",
       "          0.01283826,  0.08729344, -0.10837357, -0.0678594 , -0.38666445,\n",
       "         -0.30244046, -0.0155924 , -0.11837984, -0.08775894, -0.19047388,\n",
       "          0.29111773, -0.22807398],\n",
       "        [ 0.06516707, -0.56026554,  0.10609263,  0.4971488 , -0.2786157 ,\n",
       "          0.11117922,  0.0378001 ,  0.410311  , -0.2887346 ,  0.39472935,\n",
       "         -0.23504354, -0.14969967, -0.26011842, -0.40275988,  0.43439743,\n",
       "          0.5046347 ,  0.33848763,  0.36272347,  0.43343154, -0.32576424,\n",
       "          0.01978929, -0.3393149 , -0.4213452 ,  0.4944494 ,  0.1477271 ,\n",
       "          0.02186149,  0.491915  , -0.5150309 , -0.0447234 ,  0.09435828,\n",
       "          0.00531591,  0.3336288 ],\n",
       "        [-0.05030227,  0.30694774,  0.20452991, -0.33761638,  0.05586809,\n",
       "         -0.26050806, -0.03226662, -0.05064633, -0.24341457,  0.12132594,\n",
       "         -0.30084258,  0.08213595, -0.25700626,  0.14729074,  0.24200013,\n",
       "          0.26901498,  0.32451352,  0.00581551, -0.35256487, -0.28653163,\n",
       "          0.33123884,  0.01017603, -0.27997816, -0.1965954 ,  0.0861344 ,\n",
       "         -0.22064313,  0.08088097,  0.15380749,  0.2675384 , -0.05591258,\n",
       "          0.07671636, -0.26157877]], dtype=float32),\n",
       " array([-0.08699775,  0.20579904, -0.00252003, -0.08788246,  0.2390661 ,\n",
       "        -0.08831743, -0.00815546, -0.08285268,  0.16715336, -0.0741941 ,\n",
       "         0.17195937, -0.01906506,  0.2582177 ,  0.24188913, -0.08500413,\n",
       "        -0.08238272, -0.09060965, -0.04481224, -0.07680629,  0.20170899,\n",
       "         0.26643428, -0.00883494,  0.2454654 , -0.07123306,  0.1366043 ,\n",
       "        -0.00051254, -0.07796109,  0.24892937,  0.1316341 ,  0.14594087,\n",
       "        -0.09188354, -0.06436069], dtype=float32),\n",
       " array([[-1.1580757e-02,  5.1485848e-01],\n",
       "        [ 6.1620253e-01, -3.3430386e-02],\n",
       "        [ 3.7400755e-01, -2.0933531e-01],\n",
       "        [-3.6868828e-04,  6.1063373e-01],\n",
       "        [ 8.5150963e-01, -5.3403783e-01],\n",
       "        [-6.0066468e-01,  5.0292587e-01],\n",
       "        [-4.0800679e-01,  3.8700566e-02],\n",
       "        [-2.7474236e-02,  3.9103743e-01],\n",
       "        [ 6.6940910e-01, -6.7252165e-01],\n",
       "        [-4.0869117e-01,  3.3375967e-01],\n",
       "        [ 4.3371955e-01, -7.1895874e-01],\n",
       "        [ 3.8387377e-02,  1.7851953e-01],\n",
       "        [ 4.2084357e-01, -5.3343570e-01],\n",
       "        [ 7.7206278e-01, -1.4471829e-01],\n",
       "        [-4.6519318e-01,  2.4196699e-01],\n",
       "        [-6.0484189e-01,  5.9989148e-01],\n",
       "        [-5.7096094e-01, -1.5421358e-02],\n",
       "        [ 1.4871666e-01,  2.6104897e-01],\n",
       "        [-5.1748347e-01,  2.8580338e-01],\n",
       "        [ 7.9466039e-01, -7.4449039e-01],\n",
       "        [ 3.1280071e-01, -8.0417722e-01],\n",
       "        [ 7.8098640e-02,  3.2221621e-01],\n",
       "        [ 5.3441054e-01, -5.1962119e-01],\n",
       "        [-4.6831521e-01,  1.9871749e-01],\n",
       "        [ 1.2162855e-01, -2.3898202e-01],\n",
       "        [-3.2098651e-02,  3.2825771e-01],\n",
       "        [-4.3603715e-01,  5.0516295e-01],\n",
       "        [ 3.6449793e-01, -6.5740871e-01],\n",
       "        [ 4.6877835e-02, -2.9468313e-01],\n",
       "        [ 4.8504218e-01, -5.4779059e-01],\n",
       "        [-3.0934215e-01,  5.4545999e-01],\n",
       "        [-1.3364021e-01,  6.0452914e-01]], dtype=float32),\n",
       " array([ 0.14151835, -0.14151837], dtype=float32)]"
      ]
     },
     "execution_count": 58,
     "metadata": {},
     "output_type": "execute_result"
    }
   ],
   "source": [
    "# insert weights into model\n",
    "model2.load_weights('models/my_model_weights.h5')\n",
    "\n",
    "# get the weights\n",
    "model2.get_weights()"
   ]
  },
  {
   "cell_type": "code",
   "execution_count": null,
   "metadata": {},
   "outputs": [],
   "source": []
  },
  {
   "cell_type": "code",
   "execution_count": null,
   "metadata": {},
   "outputs": [],
   "source": []
  },
  {
   "cell_type": "code",
   "execution_count": null,
   "metadata": {},
   "outputs": [],
   "source": []
  },
  {
   "cell_type": "code",
   "execution_count": null,
   "metadata": {},
   "outputs": [],
   "source": []
  },
  {
   "cell_type": "code",
   "execution_count": null,
   "metadata": {},
   "outputs": [],
   "source": []
  },
  {
   "cell_type": "code",
   "execution_count": null,
   "metadata": {},
   "outputs": [],
   "source": []
  },
  {
   "cell_type": "code",
   "execution_count": null,
   "metadata": {},
   "outputs": [],
   "source": []
  },
  {
   "cell_type": "code",
   "execution_count": null,
   "metadata": {},
   "outputs": [],
   "source": []
  },
  {
   "cell_type": "code",
   "execution_count": null,
   "metadata": {},
   "outputs": [],
   "source": []
  },
  {
   "cell_type": "code",
   "execution_count": null,
   "metadata": {},
   "outputs": [],
   "source": []
  },
  {
   "cell_type": "code",
   "execution_count": null,
   "metadata": {},
   "outputs": [],
   "source": []
  },
  {
   "cell_type": "code",
   "execution_count": null,
   "metadata": {},
   "outputs": [],
   "source": []
  },
  {
   "cell_type": "code",
   "execution_count": null,
   "metadata": {},
   "outputs": [],
   "source": []
  },
  {
   "cell_type": "code",
   "execution_count": null,
   "metadata": {},
   "outputs": [],
   "source": []
  },
  {
   "cell_type": "code",
   "execution_count": null,
   "metadata": {},
   "outputs": [],
   "source": []
  },
  {
   "cell_type": "code",
   "execution_count": null,
   "metadata": {},
   "outputs": [],
   "source": []
  },
  {
   "cell_type": "code",
   "execution_count": null,
   "metadata": {},
   "outputs": [],
   "source": []
  },
  {
   "cell_type": "code",
   "execution_count": null,
   "metadata": {},
   "outputs": [],
   "source": []
  }
 ],
 "metadata": {
  "kernelspec": {
   "display_name": "Python 3",
   "language": "python",
   "name": "python3"
  },
  "language_info": {
   "codemirror_mode": {
    "name": "ipython",
    "version": 3
   },
   "file_extension": ".py",
   "mimetype": "text/x-python",
   "name": "python",
   "nbconvert_exporter": "python",
   "pygments_lexer": "ipython3",
   "version": "3.6.9"
  }
 },
 "nbformat": 4,
 "nbformat_minor": 4
}
